{
 "cells": [
  {
   "cell_type": "markdown",
   "metadata": {},
   "source": [
    "## British Airways - Bookings Prediction\n",
    "\n",
    "Predictive modeling to forecast customer bookings for British Airways.\n",
    "\n",
    "### Goals\n",
    "\n",
    "1. Develop a model to accurately predict whether a booking will be completed.\n",
    "2. Identify the most significant factors influencing customer booking behavior.\n",
    "\n",
    "### Data Overview\n",
    "\n",
    "**Dataset**: 50,000 observations, 7,478 of which resulted in completed bookings.\n",
    "\n",
    "**Features**:\n",
    "\n",
    "- `num_passengers` = number of passengers travelling\n",
    "- `sales_channel` = sales channel booking was made on\n",
    "- `trip_type` = trip Type (Round Trip, One Way, Circle Trip)\n",
    "- `purchase_lead` = number of days between travel date and booking date\n",
    "- `length_of_stay` = number of days spent at destination\n",
    "- `flight_hour` = hour of flight departure\n",
    "- `flight_day` = day of week of flight departure\n",
    "- `route` = origin -> destination flight route\n",
    "- `booking_origin` = country from where booking was made\n",
    "- `wants_extra_baggage` = if the customer wanted extra baggage in the booking\n",
    "- `wants_preferred_seat` = if the customer wanted a preferred seat in the booking\n",
    "- `wants_in_flight_meals` = if the customer wanted in-flight meals in the booking\n",
    "- `flight_duration` = total duration of flight (in hours)\n",
    "\n",
    "**Target**:\n",
    "\n",
    "- `booking_complete` = flag indicating if the customer completed the booking\n",
    "\n",
    "### Methodology\n",
    "\n",
    "- **Class Imbalance:** Addressed using SMOTE-ENN (Synthetic Minority Over-sampling Technique + Edited Nearest Neighbours)\n",
    "- **Models:**\n",
    "  - Logistic Regression\n",
    "  - Stochastic Gradient Descent SVM\n",
    "  - Random Forest\n",
    "  - Bernoulli Naive Bayes\n",
    "- **Hyperparameter Tuning:** Grid search with k-fold cross-validation.\n",
    "- **Feature Importance:** Assessed using permutation importance.\n",
    "\n",
    "### Results\n",
    "\n",
    "**Model Evaluation:** Due to class imbalance, accuracy can be misleading. In this context, it's likely more important to correctly identify bookings that will be completed even if it means having some false positives. The F1 score is used find a balance between capturing most of the completed bookings and ensuring that the predictions are reliable.\n",
    "\n",
    "<br>\n",
    "\n",
    "| Model                  | Accuracy | Recall | Precision | F1    | ROC AUC |\n",
    "| ---------------------- | -------- | ------ | --------- | ----- | ------- |\n",
    "| SGDClassifier          | 0.708    | 0.715  | 0.300     | 0.423 | 0.711   |\n",
    "| LogisticRegression     | 0.721    | 0.695  | 0.308     | 0.427 | 0.710   |\n",
    "| RandomForestClassifier | 0.796    | 0.472  | 0.361     | 0.409 | 0.662   |\n",
    "| BernoulliNB            | 0.678    | 0.732  | 0.280     | 0.405 | 0.701   |\n",
    "\n",
    "<br>\n",
    "\n",
    "**Best Model:** Logistic Regression and SGD Classifier achieved the highest F1 scores, 0.427 and 0.423 respectively, with the SGD Classifier being slightly better at capturing completed bookings.\n",
    "\n",
    "**Key Factors** (based on Permutation Importance from SGD Classifier)\n",
    "\n",
    "- `booking_origin`\n",
    "- `route`\n",
    "- `sales_channel`\n"
   ]
  },
  {
   "cell_type": "code",
   "execution_count": 1,
   "metadata": {},
   "outputs": [],
   "source": [
    "import warnings\n",
    "\n",
    "import numpy as np\n",
    "import pandas as pd\n",
    "import plotly.express as px\n",
    "import plotly.graph_objects as go\n",
    "from plotly.subplots import make_subplots\n",
    "from sklearn.metrics import confusion_matrix\n",
    "from imblearn.combine import SMOTEENN\n",
    "from imblearn.under_sampling import EditedNearestNeighbours\n",
    "from IPython.display import Markdown, display\n",
    "from sklearn.ensemble import RandomForestClassifier\n",
    "from sklearn.inspection import permutation_importance\n",
    "from sklearn.linear_model import LogisticRegression, SGDClassifier\n",
    "from sklearn.naive_bayes import BernoulliNB\n",
    "from sklearn.metrics import (\n",
    "    accuracy_score,\n",
    "    classification_report,\n",
    "    f1_score,\n",
    "    precision_score,\n",
    "    recall_score,\n",
    "    roc_auc_score,\n",
    ")\n",
    "from sklearn.model_selection import GridSearchCV, train_test_split\n",
    "from sklearn.preprocessing import OneHotEncoder, RobustScaler\n",
    "from skrub import TableVectorizer\n",
    "\n",
    "# Configure settings\n",
    "# pio.templates.default = \"plotly_dark\"\n",
    "pd.set_option(\"display.max_columns\", None)\n",
    "pd.set_option(\"display.max_rows\", None)\n",
    "pd.set_option(\"display.max_colwidth\", 130)\n",
    "warnings.filterwarnings(\"ignore\", category=FutureWarning)"
   ]
  },
  {
   "cell_type": "markdown",
   "metadata": {},
   "source": [
    "## Setup Pipeline\n"
   ]
  },
  {
   "cell_type": "code",
   "execution_count": 2,
   "metadata": {},
   "outputs": [],
   "source": [
    "df = pd.read_csv(\"data/customer_booking.csv\", encoding=\"ISO-8859-1\")\n",
    "\n",
    "# Encode ordinal columns\n",
    "df[\"flight_day\"] = df[\"flight_day\"].map({\"Mon\": 1, \"Tue\": 2, \"Wed\": 3, \"Thu\": 4, \"Fri\": 5, \"Sat\": 6, \"Sun\": 7})\n",
    "df[\"trip_type\"] = df[\"trip_type\"].map({\"OneWay\": 1, \"RoundTrip\": 2, \"CircleTrip\": 3})\n",
    "\n",
    "# Log transform columns with outliers and skewed distributions\n",
    "for column in [\"purchase_lead\", \"length_of_stay\"]:\n",
    "    df[column] = df[column].apply(lambda x: np.log(x) if x > 0 else 0)\n",
    "\n",
    "# Feature extraction to reduce cardinality\n",
    "df[\"route_from\"] = df[\"route\"].str.slice(stop=3)\n",
    "df[\"route_to\"] = df[\"route\"].str.slice(start=3)\n",
    "df = df.drop(columns=[\"route\"])\n",
    "\n",
    "X = df.drop(columns=[\"booking_complete\"])\n",
    "y = df[\"booking_complete\"]"
   ]
  },
  {
   "cell_type": "markdown",
   "metadata": {},
   "source": [
    "### Data Split & Transform\n"
   ]
  },
  {
   "cell_type": "code",
   "execution_count": 3,
   "metadata": {},
   "outputs": [
    {
     "name": "stderr",
     "output_type": "stream",
     "text": [
      "/Users/justn/Library/CloudStorage/Dropbox/@edu/british-airways-bookings/.pixi/envs/default/lib/python3.10/site-packages/sklearn/preprocessing/_encoders.py:242: UserWarning: Found unknown categories in columns [0] during transform. These unknown categories will be encoded as all zeros\n",
      "  warnings.warn(\n",
      "/Users/justn/Library/CloudStorage/Dropbox/@edu/british-airways-bookings/.pixi/envs/default/lib/python3.10/site-packages/sklearn/preprocessing/_encoders.py:242: UserWarning: Found unknown categories in columns [0] during transform. These unknown categories will be encoded as all zeros\n",
      "  warnings.warn(\n"
     ]
    }
   ],
   "source": [
    "# Train-test split\n",
    "X_train, X_test, y_train, y_test = train_test_split(X, y, test_size=0.3, random_state=0, stratify=y)\n",
    "\n",
    "# Define transformers\n",
    "numeric_transformer = RobustScaler()\n",
    "low_cardinality_transformer = OneHotEncoder(\n",
    "    drop=\"first\", dtype=\"float32\", handle_unknown=\"infrequent_if_exist\", sparse_output=False, min_frequency=0.001\n",
    ")\n",
    "\n",
    "# Apply transformations\n",
    "vectorizer = TableVectorizer(\n",
    "    low_cardinality=low_cardinality_transformer,\n",
    "    numeric=numeric_transformer,\n",
    "    cardinality_threshold=120,\n",
    ")\n",
    "X_train = vectorizer.fit_transform(X_train)\n",
    "X_test = vectorizer.transform(X_test)\n",
    "\n",
    "# Handle imbalance by resampling with SMOTE + ENN\n",
    "enn = EditedNearestNeighbours(sampling_strategy=\"auto\", n_neighbors=3)\n",
    "X_train_resampled, y_train_resampled = SMOTEENN(sampling_strategy=\"all\", enn=enn).fit_resample(X_train, y_train)"
   ]
  },
  {
   "cell_type": "markdown",
   "metadata": {},
   "source": [
    "### Models\n"
   ]
  },
  {
   "cell_type": "code",
   "execution_count": 4,
   "metadata": {},
   "outputs": [],
   "source": [
    "# Define models and their hyperparameters for grid search\n",
    "models = {\n",
    "    \"SGDClassifier\": {\n",
    "        \"model\": SGDClassifier(learning_rate=\"optimal\", penalty=\"l2\"),\n",
    "        \"param_grid\": {\n",
    "            \"alpha\": [0.0001, 0.001],\n",
    "            \"average\": [10, 20, 50],\n",
    "            \"loss\": [\"hinge\", \"modified_huber\"],\n",
    "        },\n",
    "    },\n",
    "    \"LogisticRegression\": {\n",
    "        \"model\": LogisticRegression(random_state=0, max_iter=1000, penalty=\"l2\"),\n",
    "        \"param_grid\": {\n",
    "            \"C\": [4, 8, 16, 32],\n",
    "            \"solver\": [\"lbfgs\", \"liblinear\", \"newton-cholesky\"],\n",
    "        },\n",
    "    },\n",
    "    \"RandomForestClassifier\": {\n",
    "        \"model\": RandomForestClassifier(random_state=0, n_jobs=-1, oob_score=f1_score, warm_start=True),\n",
    "        \"param_grid\": {\n",
    "            \"n_estimators\": [100],\n",
    "            \"max_depth\": [None],\n",
    "            \"max_features\": [\"sqrt\", \"log2\"],\n",
    "            \"min_samples_split\": [20, 30, 40],\n",
    "            \"min_samples_leaf\": [10, 20, 30],\n",
    "        },\n",
    "    },\n",
    "    \"BernoulliNB\": {\n",
    "        \"model\": BernoulliNB(),\n",
    "        \"param_grid\": {\"alpha\": [0.001, 0.01, 0.1, 0.5]},\n",
    "    },\n",
    "}"
   ]
  },
  {
   "cell_type": "markdown",
   "metadata": {},
   "source": [
    "### Model Training\n"
   ]
  },
  {
   "cell_type": "code",
   "execution_count": 5,
   "metadata": {},
   "outputs": [],
   "source": [
    "def train_model(X_train, y_train, X_test, y_test, model, param_grid, metric_grid):\n",
    "    \"\"\"\n",
    "    Trains and evaluates the given model using GridSearchCV.\n",
    "\n",
    "    Args:\n",
    "        X_train (pd.DataFrame): Training samples.\n",
    "        y_train (pd.Series): True labels for X_train.\n",
    "        X_test (pd.DataFrame): Testing samples.\n",
    "        y_test (pd.Series): True labels for X_test.\n",
    "        model (estimator object): The model to train.\n",
    "        param_grid (dict): Hyperparameters to search over.\n",
    "\n",
    "    Returns:\n",
    "        best_estimator_ (fitted estimator object): The best estimator found by GridSearchCV.\n",
    "        best_params_ (dict): The best parameters found by GridSearchCV.\n",
    "        scores (dict): Accuracy, balanced accuracy, recall, precision, f1, and kappa scores.\n",
    "\n",
    "    Displays:\n",
    "        Best parameters.\n",
    "        Evaluation scores.\n",
    "\n",
    "    \"\"\"\n",
    "    title = model.__class__.__name__\n",
    "\n",
    "    scoring = \"f1\"\n",
    "\n",
    "    search = GridSearchCV(model, param_grid, cv=3, n_jobs=-1, verbose=1, scoring=scoring)\n",
    "\n",
    "    search.fit(X_train, y_train)\n",
    "    y_pred = search.best_estimator_.predict(X_test)\n",
    "\n",
    "    display(Markdown(f\"\\n**{title} - Best Parameters:**\"))\n",
    "    display(pd.DataFrame(search.best_params_.items(), columns=[\"Parameter\", \"Value\"]))\n",
    "    display(Markdown(f\"\\n**{title} - Classification Report:**\"))\n",
    "    print(classification_report(y_test, y_pred))\n",
    "\n",
    "    scores = {\n",
    "        \"accuracy\": f\"{accuracy_score(y_test, y_pred):.3f}\",\n",
    "        \"recall\": f\"{recall_score(y_test, y_pred):.3f}\",\n",
    "        \"precision\": f\"{precision_score(y_test, y_pred):.3f}\",\n",
    "        \"f1\": f\"{f1_score(y_test, y_pred):.3f}\",\n",
    "        \"roc_auc\": f\"{roc_auc_score(y_test, y_pred):.3f}\",\n",
    "    }\n",
    "\n",
    "    metric_grid[title] = list(scores.values())\n",
    "\n",
    "    return search.best_estimator_, search.best_params_, scores, metric_grid"
   ]
  },
  {
   "cell_type": "code",
   "execution_count": 6,
   "metadata": {},
   "outputs": [
    {
     "data": {
      "text/markdown": [
       "\n",
       "---\n",
       "**Training `SGDClassifier` model**\n"
      ],
      "text/plain": [
       "<IPython.core.display.Markdown object>"
      ]
     },
     "metadata": {},
     "output_type": "display_data"
    },
    {
     "name": "stdout",
     "output_type": "stream",
     "text": [
      "Fitting 3 folds for each of 12 candidates, totalling 36 fits\n"
     ]
    },
    {
     "data": {
      "text/markdown": [
       "\n",
       "**SGDClassifier - Best Parameters:**"
      ],
      "text/plain": [
       "<IPython.core.display.Markdown object>"
      ]
     },
     "metadata": {},
     "output_type": "display_data"
    },
    {
     "data": {
      "text/html": [
       "<div>\n",
       "<style scoped>\n",
       "    .dataframe tbody tr th:only-of-type {\n",
       "        vertical-align: middle;\n",
       "    }\n",
       "\n",
       "    .dataframe tbody tr th {\n",
       "        vertical-align: top;\n",
       "    }\n",
       "\n",
       "    .dataframe thead th {\n",
       "        text-align: right;\n",
       "    }\n",
       "</style>\n",
       "<table border=\"1\" class=\"dataframe\">\n",
       "  <thead>\n",
       "    <tr style=\"text-align: right;\">\n",
       "      <th></th>\n",
       "      <th>Parameter</th>\n",
       "      <th>Value</th>\n",
       "    </tr>\n",
       "  </thead>\n",
       "  <tbody>\n",
       "    <tr>\n",
       "      <th>0</th>\n",
       "      <td>alpha</td>\n",
       "      <td>0.0001</td>\n",
       "    </tr>\n",
       "    <tr>\n",
       "      <th>1</th>\n",
       "      <td>average</td>\n",
       "      <td>20</td>\n",
       "    </tr>\n",
       "    <tr>\n",
       "      <th>2</th>\n",
       "      <td>loss</td>\n",
       "      <td>hinge</td>\n",
       "    </tr>\n",
       "  </tbody>\n",
       "</table>\n",
       "</div>"
      ],
      "text/plain": [
       "  Parameter   Value\n",
       "0     alpha  0.0001\n",
       "1   average      20\n",
       "2      loss   hinge"
      ]
     },
     "metadata": {},
     "output_type": "display_data"
    },
    {
     "data": {
      "text/markdown": [
       "\n",
       "**SGDClassifier - Classification Report:**"
      ],
      "text/plain": [
       "<IPython.core.display.Markdown object>"
      ]
     },
     "metadata": {},
     "output_type": "display_data"
    },
    {
     "name": "stdout",
     "output_type": "stream",
     "text": [
      "              precision    recall  f1-score   support\n",
      "\n",
      "           0       0.93      0.71      0.80     12757\n",
      "           1       0.30      0.72      0.42      2243\n",
      "\n",
      "    accuracy                           0.71     15000\n",
      "   macro avg       0.62      0.71      0.61     15000\n",
      "weighted avg       0.84      0.71      0.75     15000\n",
      "\n"
     ]
    },
    {
     "data": {
      "text/markdown": [
       "\n",
       "---\n",
       "**Training `LogisticRegression` model**\n"
      ],
      "text/plain": [
       "<IPython.core.display.Markdown object>"
      ]
     },
     "metadata": {},
     "output_type": "display_data"
    },
    {
     "name": "stdout",
     "output_type": "stream",
     "text": [
      "Fitting 3 folds for each of 12 candidates, totalling 36 fits\n"
     ]
    },
    {
     "data": {
      "text/markdown": [
       "\n",
       "**LogisticRegression - Best Parameters:**"
      ],
      "text/plain": [
       "<IPython.core.display.Markdown object>"
      ]
     },
     "metadata": {},
     "output_type": "display_data"
    },
    {
     "data": {
      "text/html": [
       "<div>\n",
       "<style scoped>\n",
       "    .dataframe tbody tr th:only-of-type {\n",
       "        vertical-align: middle;\n",
       "    }\n",
       "\n",
       "    .dataframe tbody tr th {\n",
       "        vertical-align: top;\n",
       "    }\n",
       "\n",
       "    .dataframe thead th {\n",
       "        text-align: right;\n",
       "    }\n",
       "</style>\n",
       "<table border=\"1\" class=\"dataframe\">\n",
       "  <thead>\n",
       "    <tr style=\"text-align: right;\">\n",
       "      <th></th>\n",
       "      <th>Parameter</th>\n",
       "      <th>Value</th>\n",
       "    </tr>\n",
       "  </thead>\n",
       "  <tbody>\n",
       "    <tr>\n",
       "      <th>0</th>\n",
       "      <td>C</td>\n",
       "      <td>32</td>\n",
       "    </tr>\n",
       "    <tr>\n",
       "      <th>1</th>\n",
       "      <td>solver</td>\n",
       "      <td>liblinear</td>\n",
       "    </tr>\n",
       "  </tbody>\n",
       "</table>\n",
       "</div>"
      ],
      "text/plain": [
       "  Parameter      Value\n",
       "0         C         32\n",
       "1    solver  liblinear"
      ]
     },
     "metadata": {},
     "output_type": "display_data"
    },
    {
     "data": {
      "text/markdown": [
       "\n",
       "**LogisticRegression - Classification Report:**"
      ],
      "text/plain": [
       "<IPython.core.display.Markdown object>"
      ]
     },
     "metadata": {},
     "output_type": "display_data"
    },
    {
     "name": "stdout",
     "output_type": "stream",
     "text": [
      "              precision    recall  f1-score   support\n",
      "\n",
      "           0       0.93      0.73      0.82     12757\n",
      "           1       0.31      0.70      0.43      2243\n",
      "\n",
      "    accuracy                           0.72     15000\n",
      "   macro avg       0.62      0.71      0.62     15000\n",
      "weighted avg       0.84      0.72      0.76     15000\n",
      "\n"
     ]
    },
    {
     "data": {
      "text/markdown": [
       "\n",
       "---\n",
       "**Training `RandomForestClassifier` model**\n"
      ],
      "text/plain": [
       "<IPython.core.display.Markdown object>"
      ]
     },
     "metadata": {},
     "output_type": "display_data"
    },
    {
     "name": "stdout",
     "output_type": "stream",
     "text": [
      "Fitting 3 folds for each of 18 candidates, totalling 54 fits\n"
     ]
    },
    {
     "data": {
      "text/markdown": [
       "\n",
       "**RandomForestClassifier - Best Parameters:**"
      ],
      "text/plain": [
       "<IPython.core.display.Markdown object>"
      ]
     },
     "metadata": {},
     "output_type": "display_data"
    },
    {
     "data": {
      "text/html": [
       "<div>\n",
       "<style scoped>\n",
       "    .dataframe tbody tr th:only-of-type {\n",
       "        vertical-align: middle;\n",
       "    }\n",
       "\n",
       "    .dataframe tbody tr th {\n",
       "        vertical-align: top;\n",
       "    }\n",
       "\n",
       "    .dataframe thead th {\n",
       "        text-align: right;\n",
       "    }\n",
       "</style>\n",
       "<table border=\"1\" class=\"dataframe\">\n",
       "  <thead>\n",
       "    <tr style=\"text-align: right;\">\n",
       "      <th></th>\n",
       "      <th>Parameter</th>\n",
       "      <th>Value</th>\n",
       "    </tr>\n",
       "  </thead>\n",
       "  <tbody>\n",
       "    <tr>\n",
       "      <th>0</th>\n",
       "      <td>max_depth</td>\n",
       "      <td>None</td>\n",
       "    </tr>\n",
       "    <tr>\n",
       "      <th>1</th>\n",
       "      <td>max_features</td>\n",
       "      <td>sqrt</td>\n",
       "    </tr>\n",
       "    <tr>\n",
       "      <th>2</th>\n",
       "      <td>min_samples_leaf</td>\n",
       "      <td>10</td>\n",
       "    </tr>\n",
       "    <tr>\n",
       "      <th>3</th>\n",
       "      <td>min_samples_split</td>\n",
       "      <td>20</td>\n",
       "    </tr>\n",
       "    <tr>\n",
       "      <th>4</th>\n",
       "      <td>n_estimators</td>\n",
       "      <td>100</td>\n",
       "    </tr>\n",
       "  </tbody>\n",
       "</table>\n",
       "</div>"
      ],
      "text/plain": [
       "           Parameter Value\n",
       "0          max_depth  None\n",
       "1       max_features  sqrt\n",
       "2   min_samples_leaf    10\n",
       "3  min_samples_split    20\n",
       "4       n_estimators   100"
      ]
     },
     "metadata": {},
     "output_type": "display_data"
    },
    {
     "data": {
      "text/markdown": [
       "\n",
       "**RandomForestClassifier - Classification Report:**"
      ],
      "text/plain": [
       "<IPython.core.display.Markdown object>"
      ]
     },
     "metadata": {},
     "output_type": "display_data"
    },
    {
     "name": "stdout",
     "output_type": "stream",
     "text": [
      "              precision    recall  f1-score   support\n",
      "\n",
      "           0       0.90      0.85      0.88     12757\n",
      "           1       0.36      0.47      0.41      2243\n",
      "\n",
      "    accuracy                           0.80     15000\n",
      "   macro avg       0.63      0.66      0.64     15000\n",
      "weighted avg       0.82      0.80      0.81     15000\n",
      "\n"
     ]
    },
    {
     "data": {
      "text/markdown": [
       "\n",
       "---\n",
       "**Training `BernoulliNB` model**\n"
      ],
      "text/plain": [
       "<IPython.core.display.Markdown object>"
      ]
     },
     "metadata": {},
     "output_type": "display_data"
    },
    {
     "name": "stdout",
     "output_type": "stream",
     "text": [
      "Fitting 3 folds for each of 4 candidates, totalling 12 fits\n"
     ]
    },
    {
     "data": {
      "text/markdown": [
       "\n",
       "**BernoulliNB - Best Parameters:**"
      ],
      "text/plain": [
       "<IPython.core.display.Markdown object>"
      ]
     },
     "metadata": {},
     "output_type": "display_data"
    },
    {
     "data": {
      "text/html": [
       "<div>\n",
       "<style scoped>\n",
       "    .dataframe tbody tr th:only-of-type {\n",
       "        vertical-align: middle;\n",
       "    }\n",
       "\n",
       "    .dataframe tbody tr th {\n",
       "        vertical-align: top;\n",
       "    }\n",
       "\n",
       "    .dataframe thead th {\n",
       "        text-align: right;\n",
       "    }\n",
       "</style>\n",
       "<table border=\"1\" class=\"dataframe\">\n",
       "  <thead>\n",
       "    <tr style=\"text-align: right;\">\n",
       "      <th></th>\n",
       "      <th>Parameter</th>\n",
       "      <th>Value</th>\n",
       "    </tr>\n",
       "  </thead>\n",
       "  <tbody>\n",
       "    <tr>\n",
       "      <th>0</th>\n",
       "      <td>alpha</td>\n",
       "      <td>0.1</td>\n",
       "    </tr>\n",
       "  </tbody>\n",
       "</table>\n",
       "</div>"
      ],
      "text/plain": [
       "  Parameter  Value\n",
       "0     alpha    0.1"
      ]
     },
     "metadata": {},
     "output_type": "display_data"
    },
    {
     "data": {
      "text/markdown": [
       "\n",
       "**BernoulliNB - Classification Report:**"
      ],
      "text/plain": [
       "<IPython.core.display.Markdown object>"
      ]
     },
     "metadata": {},
     "output_type": "display_data"
    },
    {
     "name": "stdout",
     "output_type": "stream",
     "text": [
      "              precision    recall  f1-score   support\n",
      "\n",
      "           0       0.93      0.67      0.78     12757\n",
      "           1       0.28      0.73      0.41      2243\n",
      "\n",
      "    accuracy                           0.68     15000\n",
      "   macro avg       0.61      0.70      0.59     15000\n",
      "weighted avg       0.84      0.68      0.72     15000\n",
      "\n"
     ]
    },
    {
     "data": {
      "text/markdown": [
       "\n",
       "---\n",
       "#### Best Test Scores:"
      ],
      "text/plain": [
       "<IPython.core.display.Markdown object>"
      ]
     },
     "metadata": {},
     "output_type": "display_data"
    },
    {
     "data": {
      "text/html": [
       "<style type=\"text/css\">\n",
       "#T_7a667_row0_col4, #T_7a667_row1_col3, #T_7a667_row2_col0, #T_7a667_row2_col2, #T_7a667_row3_col1 {\n",
       "  background-color: green;\n",
       "}\n",
       "</style>\n",
       "<table id=\"T_7a667\">\n",
       "  <thead>\n",
       "    <tr>\n",
       "      <th class=\"blank level0\" >&nbsp;</th>\n",
       "      <th id=\"T_7a667_level0_col0\" class=\"col_heading level0 col0\" >accuracy</th>\n",
       "      <th id=\"T_7a667_level0_col1\" class=\"col_heading level0 col1\" >recall</th>\n",
       "      <th id=\"T_7a667_level0_col2\" class=\"col_heading level0 col2\" >precision</th>\n",
       "      <th id=\"T_7a667_level0_col3\" class=\"col_heading level0 col3\" >f1</th>\n",
       "      <th id=\"T_7a667_level0_col4\" class=\"col_heading level0 col4\" >roc_auc</th>\n",
       "    </tr>\n",
       "  </thead>\n",
       "  <tbody>\n",
       "    <tr>\n",
       "      <th id=\"T_7a667_level0_row0\" class=\"row_heading level0 row0\" >SGDClassifier</th>\n",
       "      <td id=\"T_7a667_row0_col0\" class=\"data row0 col0\" >0.708</td>\n",
       "      <td id=\"T_7a667_row0_col1\" class=\"data row0 col1\" >0.715</td>\n",
       "      <td id=\"T_7a667_row0_col2\" class=\"data row0 col2\" >0.300</td>\n",
       "      <td id=\"T_7a667_row0_col3\" class=\"data row0 col3\" >0.423</td>\n",
       "      <td id=\"T_7a667_row0_col4\" class=\"data row0 col4\" >0.711</td>\n",
       "    </tr>\n",
       "    <tr>\n",
       "      <th id=\"T_7a667_level0_row1\" class=\"row_heading level0 row1\" >LogisticRegression</th>\n",
       "      <td id=\"T_7a667_row1_col0\" class=\"data row1 col0\" >0.721</td>\n",
       "      <td id=\"T_7a667_row1_col1\" class=\"data row1 col1\" >0.695</td>\n",
       "      <td id=\"T_7a667_row1_col2\" class=\"data row1 col2\" >0.308</td>\n",
       "      <td id=\"T_7a667_row1_col3\" class=\"data row1 col3\" >0.427</td>\n",
       "      <td id=\"T_7a667_row1_col4\" class=\"data row1 col4\" >0.710</td>\n",
       "    </tr>\n",
       "    <tr>\n",
       "      <th id=\"T_7a667_level0_row2\" class=\"row_heading level0 row2\" >RandomForestClassifier</th>\n",
       "      <td id=\"T_7a667_row2_col0\" class=\"data row2 col0\" >0.796</td>\n",
       "      <td id=\"T_7a667_row2_col1\" class=\"data row2 col1\" >0.472</td>\n",
       "      <td id=\"T_7a667_row2_col2\" class=\"data row2 col2\" >0.361</td>\n",
       "      <td id=\"T_7a667_row2_col3\" class=\"data row2 col3\" >0.409</td>\n",
       "      <td id=\"T_7a667_row2_col4\" class=\"data row2 col4\" >0.662</td>\n",
       "    </tr>\n",
       "    <tr>\n",
       "      <th id=\"T_7a667_level0_row3\" class=\"row_heading level0 row3\" >BernoulliNB</th>\n",
       "      <td id=\"T_7a667_row3_col0\" class=\"data row3 col0\" >0.678</td>\n",
       "      <td id=\"T_7a667_row3_col1\" class=\"data row3 col1\" >0.732</td>\n",
       "      <td id=\"T_7a667_row3_col2\" class=\"data row3 col2\" >0.280</td>\n",
       "      <td id=\"T_7a667_row3_col3\" class=\"data row3 col3\" >0.405</td>\n",
       "      <td id=\"T_7a667_row3_col4\" class=\"data row3 col4\" >0.701</td>\n",
       "    </tr>\n",
       "  </tbody>\n",
       "</table>\n"
      ],
      "text/plain": [
       "<pandas.io.formats.style.Styler at 0x16ba63b50>"
      ]
     },
     "metadata": {},
     "output_type": "display_data"
    }
   ],
   "source": [
    "# Set up empty DataFrame to store calculated metrics\n",
    "best_models = {}\n",
    "model_metric_grid = pd.DataFrame(columns=models.keys(), index=[\"accuracy\", \"recall\", \"precision\", \"f1\", \"roc_auc\"])\n",
    "\n",
    "# Initiate training and evaluation\n",
    "for name, config in models.items():\n",
    "    display(Markdown(f\"\\n---\\n**Training `{name}` model**\\n\"))\n",
    "    best_estimator, best_params, best_scores, model_metric_grid = train_model(\n",
    "        X_train_resampled, y_train_resampled, X_test, y_test, config[\"model\"], config[\"param_grid\"], model_metric_grid\n",
    "    )\n",
    "    best_models[name] = {\"estimator\": best_estimator, \"params\": best_params, \"scores\": best_scores}\n",
    "\n",
    "# Display metrics DataFrame, highlighting the highest value in each column\n",
    "display(Markdown(\"\\n---\\n#### Best Test Scores:\"), model_metric_grid.T.style.highlight_max(color=\"green\", axis=0))"
   ]
  },
  {
   "cell_type": "markdown",
   "metadata": {},
   "source": [
    "### Plot Confusion Matrices\n"
   ]
  },
  {
   "cell_type": "code",
   "execution_count": 7,
   "metadata": {},
   "outputs": [
    {
     "data": {
      "application/vnd.plotly.v1+json": {
       "config": {
        "plotlyServerURL": "https://plot.ly"
       },
       "data": [
        {
         "colorscale": [
          [
           0,
           "rgb(247,251,255)"
          ],
          [
           0.125,
           "rgb(222,235,247)"
          ],
          [
           0.25,
           "rgb(198,219,239)"
          ],
          [
           0.375,
           "rgb(158,202,225)"
          ],
          [
           0.5,
           "rgb(107,174,214)"
          ],
          [
           0.625,
           "rgb(66,146,198)"
          ],
          [
           0.75,
           "rgb(33,113,181)"
          ],
          [
           0.875,
           "rgb(8,81,156)"
          ],
          [
           1,
           "rgb(8,48,107)"
          ]
         ],
         "hoverinfo": "text",
         "hovertext": [
          [
           "Count: 9016<br>Normalized: 0.71",
           "Count: 3741<br>Normalized: 0.29"
          ],
          [
           "Count: 639<br>Normalized: 0.28",
           "Count: 1604<br>Normalized: 0.72"
          ]
         ],
         "showscale": false,
         "text": [
          [
           "0.71",
           "0.29"
          ],
          [
           "0.28",
           "0.72"
          ]
         ],
         "texttemplate": "%{text}",
         "type": "heatmap",
         "x": [
          "Not Booked",
          "Booked"
         ],
         "xaxis": "x",
         "y": [
          "Not Booked",
          "Booked"
         ],
         "yaxis": "y",
         "z": [
          [
           0.7067492357137258,
           0.2932507642862742
          ],
          [
           0.28488631297369593,
           0.7151136870263041
          ]
         ],
         "zmax": 1,
         "zmin": 0
        },
        {
         "colorscale": [
          [
           0,
           "rgb(247,251,255)"
          ],
          [
           0.125,
           "rgb(222,235,247)"
          ],
          [
           0.25,
           "rgb(198,219,239)"
          ],
          [
           0.375,
           "rgb(158,202,225)"
          ],
          [
           0.5,
           "rgb(107,174,214)"
          ],
          [
           0.625,
           "rgb(66,146,198)"
          ],
          [
           0.75,
           "rgb(33,113,181)"
          ],
          [
           0.875,
           "rgb(8,81,156)"
          ],
          [
           1,
           "rgb(8,48,107)"
          ]
         ],
         "hoverinfo": "text",
         "hovertext": [
          [
           "Count: 9254<br>Normalized: 0.73",
           "Count: 3503<br>Normalized: 0.27"
          ],
          [
           "Count: 684<br>Normalized: 0.30",
           "Count: 1559<br>Normalized: 0.70"
          ]
         ],
         "showscale": false,
         "text": [
          [
           "0.73",
           "0.27"
          ],
          [
           "0.30",
           "0.70"
          ]
         ],
         "texttemplate": "%{text}",
         "type": "heatmap",
         "x": [
          "Not Booked",
          "Booked"
         ],
         "xaxis": "x2",
         "y": [
          "Not Booked",
          "Booked"
         ],
         "yaxis": "y2",
         "z": [
          [
           0.7254056596378459,
           0.27459434036215413
          ],
          [
           0.30494872938029427,
           0.6950512706197057
          ]
         ],
         "zmax": 1,
         "zmin": 0
        },
        {
         "colorscale": [
          [
           0,
           "rgb(247,251,255)"
          ],
          [
           0.125,
           "rgb(222,235,247)"
          ],
          [
           0.25,
           "rgb(198,219,239)"
          ],
          [
           0.375,
           "rgb(158,202,225)"
          ],
          [
           0.5,
           "rgb(107,174,214)"
          ],
          [
           0.625,
           "rgb(66,146,198)"
          ],
          [
           0.75,
           "rgb(33,113,181)"
          ],
          [
           0.875,
           "rgb(8,81,156)"
          ],
          [
           1,
           "rgb(8,48,107)"
          ]
         ],
         "hoverinfo": "text",
         "hovertext": [
          [
           "Count: 10884<br>Normalized: 0.85",
           "Count: 1873<br>Normalized: 0.15"
          ],
          [
           "Count: 1185<br>Normalized: 0.53",
           "Count: 1058<br>Normalized: 0.47"
          ]
         ],
         "showscale": false,
         "text": [
          [
           "0.85",
           "0.15"
          ],
          [
           "0.53",
           "0.47"
          ]
         ],
         "texttemplate": "%{text}",
         "type": "heatmap",
         "x": [
          "Not Booked",
          "Booked"
         ],
         "xaxis": "x3",
         "y": [
          "Not Booked",
          "Booked"
         ],
         "yaxis": "y3",
         "z": [
          [
           0.8531786470173238,
           0.14682135298267618
          ],
          [
           0.5283102987070887,
           0.47168970129291127
          ]
         ],
         "zmax": 1,
         "zmin": 0
        },
        {
         "colorscale": [
          [
           0,
           "rgb(247,251,255)"
          ],
          [
           0.125,
           "rgb(222,235,247)"
          ],
          [
           0.25,
           "rgb(198,219,239)"
          ],
          [
           0.375,
           "rgb(158,202,225)"
          ],
          [
           0.5,
           "rgb(107,174,214)"
          ],
          [
           0.625,
           "rgb(66,146,198)"
          ],
          [
           0.75,
           "rgb(33,113,181)"
          ],
          [
           0.875,
           "rgb(8,81,156)"
          ],
          [
           1,
           "rgb(8,48,107)"
          ]
         ],
         "hoverinfo": "text",
         "hovertext": [
          [
           "Count: 8535<br>Normalized: 0.67",
           "Count: 4222<br>Normalized: 0.33"
          ],
          [
           "Count: 601<br>Normalized: 0.27",
           "Count: 1642<br>Normalized: 0.73"
          ]
         ],
         "showscale": false,
         "text": [
          [
           "0.67",
           "0.33"
          ],
          [
           "0.27",
           "0.73"
          ]
         ],
         "texttemplate": "%{text}",
         "type": "heatmap",
         "x": [
          "Not Booked",
          "Booked"
         ],
         "xaxis": "x4",
         "y": [
          "Not Booked",
          "Booked"
         ],
         "yaxis": "y4",
         "z": [
          [
           0.6690444461864075,
           0.33095555381359254
          ],
          [
           0.26794471689701294,
           0.7320552831029871
          ]
         ],
         "zmax": 1,
         "zmin": 0
        }
       ],
       "layout": {
        "annotations": [
         {
          "font": {
           "size": 16
          },
          "showarrow": false,
          "text": "SGDClassifier",
          "x": 0.2,
          "xanchor": "center",
          "xref": "paper",
          "y": 1,
          "yanchor": "bottom",
          "yref": "paper"
         },
         {
          "font": {
           "size": 16
          },
          "showarrow": false,
          "text": "LogisticRegression",
          "x": 0.8,
          "xanchor": "center",
          "xref": "paper",
          "y": 1,
          "yanchor": "bottom",
          "yref": "paper"
         },
         {
          "font": {
           "size": 16
          },
          "showarrow": false,
          "text": "RandomForestClassifier",
          "x": 0.2,
          "xanchor": "center",
          "xref": "paper",
          "y": 0.375,
          "yanchor": "bottom",
          "yref": "paper"
         },
         {
          "font": {
           "size": 16
          },
          "showarrow": false,
          "text": "BernoulliNB",
          "x": 0.8,
          "xanchor": "center",
          "xref": "paper",
          "y": 0.375,
          "yanchor": "bottom",
          "yref": "paper"
         }
        ],
        "height": 700,
        "template": {
         "data": {
          "bar": [
           {
            "error_x": {
             "color": "#2a3f5f"
            },
            "error_y": {
             "color": "#2a3f5f"
            },
            "marker": {
             "line": {
              "color": "#E5ECF6",
              "width": 0.5
             },
             "pattern": {
              "fillmode": "overlay",
              "size": 10,
              "solidity": 0.2
             }
            },
            "type": "bar"
           }
          ],
          "barpolar": [
           {
            "marker": {
             "line": {
              "color": "#E5ECF6",
              "width": 0.5
             },
             "pattern": {
              "fillmode": "overlay",
              "size": 10,
              "solidity": 0.2
             }
            },
            "type": "barpolar"
           }
          ],
          "carpet": [
           {
            "aaxis": {
             "endlinecolor": "#2a3f5f",
             "gridcolor": "white",
             "linecolor": "white",
             "minorgridcolor": "white",
             "startlinecolor": "#2a3f5f"
            },
            "baxis": {
             "endlinecolor": "#2a3f5f",
             "gridcolor": "white",
             "linecolor": "white",
             "minorgridcolor": "white",
             "startlinecolor": "#2a3f5f"
            },
            "type": "carpet"
           }
          ],
          "choropleth": [
           {
            "colorbar": {
             "outlinewidth": 0,
             "ticks": ""
            },
            "type": "choropleth"
           }
          ],
          "contour": [
           {
            "colorbar": {
             "outlinewidth": 0,
             "ticks": ""
            },
            "colorscale": [
             [
              0,
              "#0d0887"
             ],
             [
              0.1111111111111111,
              "#46039f"
             ],
             [
              0.2222222222222222,
              "#7201a8"
             ],
             [
              0.3333333333333333,
              "#9c179e"
             ],
             [
              0.4444444444444444,
              "#bd3786"
             ],
             [
              0.5555555555555556,
              "#d8576b"
             ],
             [
              0.6666666666666666,
              "#ed7953"
             ],
             [
              0.7777777777777778,
              "#fb9f3a"
             ],
             [
              0.8888888888888888,
              "#fdca26"
             ],
             [
              1,
              "#f0f921"
             ]
            ],
            "type": "contour"
           }
          ],
          "contourcarpet": [
           {
            "colorbar": {
             "outlinewidth": 0,
             "ticks": ""
            },
            "type": "contourcarpet"
           }
          ],
          "heatmap": [
           {
            "colorbar": {
             "outlinewidth": 0,
             "ticks": ""
            },
            "colorscale": [
             [
              0,
              "#0d0887"
             ],
             [
              0.1111111111111111,
              "#46039f"
             ],
             [
              0.2222222222222222,
              "#7201a8"
             ],
             [
              0.3333333333333333,
              "#9c179e"
             ],
             [
              0.4444444444444444,
              "#bd3786"
             ],
             [
              0.5555555555555556,
              "#d8576b"
             ],
             [
              0.6666666666666666,
              "#ed7953"
             ],
             [
              0.7777777777777778,
              "#fb9f3a"
             ],
             [
              0.8888888888888888,
              "#fdca26"
             ],
             [
              1,
              "#f0f921"
             ]
            ],
            "type": "heatmap"
           }
          ],
          "heatmapgl": [
           {
            "colorbar": {
             "outlinewidth": 0,
             "ticks": ""
            },
            "colorscale": [
             [
              0,
              "#0d0887"
             ],
             [
              0.1111111111111111,
              "#46039f"
             ],
             [
              0.2222222222222222,
              "#7201a8"
             ],
             [
              0.3333333333333333,
              "#9c179e"
             ],
             [
              0.4444444444444444,
              "#bd3786"
             ],
             [
              0.5555555555555556,
              "#d8576b"
             ],
             [
              0.6666666666666666,
              "#ed7953"
             ],
             [
              0.7777777777777778,
              "#fb9f3a"
             ],
             [
              0.8888888888888888,
              "#fdca26"
             ],
             [
              1,
              "#f0f921"
             ]
            ],
            "type": "heatmapgl"
           }
          ],
          "histogram": [
           {
            "marker": {
             "pattern": {
              "fillmode": "overlay",
              "size": 10,
              "solidity": 0.2
             }
            },
            "type": "histogram"
           }
          ],
          "histogram2d": [
           {
            "colorbar": {
             "outlinewidth": 0,
             "ticks": ""
            },
            "colorscale": [
             [
              0,
              "#0d0887"
             ],
             [
              0.1111111111111111,
              "#46039f"
             ],
             [
              0.2222222222222222,
              "#7201a8"
             ],
             [
              0.3333333333333333,
              "#9c179e"
             ],
             [
              0.4444444444444444,
              "#bd3786"
             ],
             [
              0.5555555555555556,
              "#d8576b"
             ],
             [
              0.6666666666666666,
              "#ed7953"
             ],
             [
              0.7777777777777778,
              "#fb9f3a"
             ],
             [
              0.8888888888888888,
              "#fdca26"
             ],
             [
              1,
              "#f0f921"
             ]
            ],
            "type": "histogram2d"
           }
          ],
          "histogram2dcontour": [
           {
            "colorbar": {
             "outlinewidth": 0,
             "ticks": ""
            },
            "colorscale": [
             [
              0,
              "#0d0887"
             ],
             [
              0.1111111111111111,
              "#46039f"
             ],
             [
              0.2222222222222222,
              "#7201a8"
             ],
             [
              0.3333333333333333,
              "#9c179e"
             ],
             [
              0.4444444444444444,
              "#bd3786"
             ],
             [
              0.5555555555555556,
              "#d8576b"
             ],
             [
              0.6666666666666666,
              "#ed7953"
             ],
             [
              0.7777777777777778,
              "#fb9f3a"
             ],
             [
              0.8888888888888888,
              "#fdca26"
             ],
             [
              1,
              "#f0f921"
             ]
            ],
            "type": "histogram2dcontour"
           }
          ],
          "mesh3d": [
           {
            "colorbar": {
             "outlinewidth": 0,
             "ticks": ""
            },
            "type": "mesh3d"
           }
          ],
          "parcoords": [
           {
            "line": {
             "colorbar": {
              "outlinewidth": 0,
              "ticks": ""
             }
            },
            "type": "parcoords"
           }
          ],
          "pie": [
           {
            "automargin": true,
            "type": "pie"
           }
          ],
          "scatter": [
           {
            "fillpattern": {
             "fillmode": "overlay",
             "size": 10,
             "solidity": 0.2
            },
            "type": "scatter"
           }
          ],
          "scatter3d": [
           {
            "line": {
             "colorbar": {
              "outlinewidth": 0,
              "ticks": ""
             }
            },
            "marker": {
             "colorbar": {
              "outlinewidth": 0,
              "ticks": ""
             }
            },
            "type": "scatter3d"
           }
          ],
          "scattercarpet": [
           {
            "marker": {
             "colorbar": {
              "outlinewidth": 0,
              "ticks": ""
             }
            },
            "type": "scattercarpet"
           }
          ],
          "scattergeo": [
           {
            "marker": {
             "colorbar": {
              "outlinewidth": 0,
              "ticks": ""
             }
            },
            "type": "scattergeo"
           }
          ],
          "scattergl": [
           {
            "marker": {
             "colorbar": {
              "outlinewidth": 0,
              "ticks": ""
             }
            },
            "type": "scattergl"
           }
          ],
          "scattermapbox": [
           {
            "marker": {
             "colorbar": {
              "outlinewidth": 0,
              "ticks": ""
             }
            },
            "type": "scattermapbox"
           }
          ],
          "scatterpolar": [
           {
            "marker": {
             "colorbar": {
              "outlinewidth": 0,
              "ticks": ""
             }
            },
            "type": "scatterpolar"
           }
          ],
          "scatterpolargl": [
           {
            "marker": {
             "colorbar": {
              "outlinewidth": 0,
              "ticks": ""
             }
            },
            "type": "scatterpolargl"
           }
          ],
          "scatterternary": [
           {
            "marker": {
             "colorbar": {
              "outlinewidth": 0,
              "ticks": ""
             }
            },
            "type": "scatterternary"
           }
          ],
          "surface": [
           {
            "colorbar": {
             "outlinewidth": 0,
             "ticks": ""
            },
            "colorscale": [
             [
              0,
              "#0d0887"
             ],
             [
              0.1111111111111111,
              "#46039f"
             ],
             [
              0.2222222222222222,
              "#7201a8"
             ],
             [
              0.3333333333333333,
              "#9c179e"
             ],
             [
              0.4444444444444444,
              "#bd3786"
             ],
             [
              0.5555555555555556,
              "#d8576b"
             ],
             [
              0.6666666666666666,
              "#ed7953"
             ],
             [
              0.7777777777777778,
              "#fb9f3a"
             ],
             [
              0.8888888888888888,
              "#fdca26"
             ],
             [
              1,
              "#f0f921"
             ]
            ],
            "type": "surface"
           }
          ],
          "table": [
           {
            "cells": {
             "fill": {
              "color": "#EBF0F8"
             },
             "line": {
              "color": "white"
             }
            },
            "header": {
             "fill": {
              "color": "#C8D4E3"
             },
             "line": {
              "color": "white"
             }
            },
            "type": "table"
           }
          ]
         },
         "layout": {
          "annotationdefaults": {
           "arrowcolor": "#2a3f5f",
           "arrowhead": 0,
           "arrowwidth": 1
          },
          "autotypenumbers": "strict",
          "coloraxis": {
           "colorbar": {
            "outlinewidth": 0,
            "ticks": ""
           }
          },
          "colorscale": {
           "diverging": [
            [
             0,
             "#8e0152"
            ],
            [
             0.1,
             "#c51b7d"
            ],
            [
             0.2,
             "#de77ae"
            ],
            [
             0.3,
             "#f1b6da"
            ],
            [
             0.4,
             "#fde0ef"
            ],
            [
             0.5,
             "#f7f7f7"
            ],
            [
             0.6,
             "#e6f5d0"
            ],
            [
             0.7,
             "#b8e186"
            ],
            [
             0.8,
             "#7fbc41"
            ],
            [
             0.9,
             "#4d9221"
            ],
            [
             1,
             "#276419"
            ]
           ],
           "sequential": [
            [
             0,
             "#0d0887"
            ],
            [
             0.1111111111111111,
             "#46039f"
            ],
            [
             0.2222222222222222,
             "#7201a8"
            ],
            [
             0.3333333333333333,
             "#9c179e"
            ],
            [
             0.4444444444444444,
             "#bd3786"
            ],
            [
             0.5555555555555556,
             "#d8576b"
            ],
            [
             0.6666666666666666,
             "#ed7953"
            ],
            [
             0.7777777777777778,
             "#fb9f3a"
            ],
            [
             0.8888888888888888,
             "#fdca26"
            ],
            [
             1,
             "#f0f921"
            ]
           ],
           "sequentialminus": [
            [
             0,
             "#0d0887"
            ],
            [
             0.1111111111111111,
             "#46039f"
            ],
            [
             0.2222222222222222,
             "#7201a8"
            ],
            [
             0.3333333333333333,
             "#9c179e"
            ],
            [
             0.4444444444444444,
             "#bd3786"
            ],
            [
             0.5555555555555556,
             "#d8576b"
            ],
            [
             0.6666666666666666,
             "#ed7953"
            ],
            [
             0.7777777777777778,
             "#fb9f3a"
            ],
            [
             0.8888888888888888,
             "#fdca26"
            ],
            [
             1,
             "#f0f921"
            ]
           ]
          },
          "colorway": [
           "#636efa",
           "#EF553B",
           "#00cc96",
           "#ab63fa",
           "#FFA15A",
           "#19d3f3",
           "#FF6692",
           "#B6E880",
           "#FF97FF",
           "#FECB52"
          ],
          "font": {
           "color": "#2a3f5f"
          },
          "geo": {
           "bgcolor": "white",
           "lakecolor": "white",
           "landcolor": "#E5ECF6",
           "showlakes": true,
           "showland": true,
           "subunitcolor": "white"
          },
          "hoverlabel": {
           "align": "left"
          },
          "hovermode": "closest",
          "mapbox": {
           "style": "light"
          },
          "paper_bgcolor": "white",
          "plot_bgcolor": "#E5ECF6",
          "polar": {
           "angularaxis": {
            "gridcolor": "white",
            "linecolor": "white",
            "ticks": ""
           },
           "bgcolor": "#E5ECF6",
           "radialaxis": {
            "gridcolor": "white",
            "linecolor": "white",
            "ticks": ""
           }
          },
          "scene": {
           "xaxis": {
            "backgroundcolor": "#E5ECF6",
            "gridcolor": "white",
            "gridwidth": 2,
            "linecolor": "white",
            "showbackground": true,
            "ticks": "",
            "zerolinecolor": "white"
           },
           "yaxis": {
            "backgroundcolor": "#E5ECF6",
            "gridcolor": "white",
            "gridwidth": 2,
            "linecolor": "white",
            "showbackground": true,
            "ticks": "",
            "zerolinecolor": "white"
           },
           "zaxis": {
            "backgroundcolor": "#E5ECF6",
            "gridcolor": "white",
            "gridwidth": 2,
            "linecolor": "white",
            "showbackground": true,
            "ticks": "",
            "zerolinecolor": "white"
           }
          },
          "shapedefaults": {
           "line": {
            "color": "#2a3f5f"
           }
          },
          "ternary": {
           "aaxis": {
            "gridcolor": "white",
            "linecolor": "white",
            "ticks": ""
           },
           "baxis": {
            "gridcolor": "white",
            "linecolor": "white",
            "ticks": ""
           },
           "bgcolor": "#E5ECF6",
           "caxis": {
            "gridcolor": "white",
            "linecolor": "white",
            "ticks": ""
           }
          },
          "title": {
           "x": 0.05
          },
          "xaxis": {
           "automargin": true,
           "gridcolor": "white",
           "linecolor": "white",
           "ticks": "",
           "title": {
            "standoff": 15
           },
           "zerolinecolor": "white",
           "zerolinewidth": 2
          },
          "yaxis": {
           "automargin": true,
           "gridcolor": "white",
           "linecolor": "white",
           "ticks": "",
           "title": {
            "standoff": 15
           },
           "zerolinecolor": "white",
           "zerolinewidth": 2
          }
         }
        },
        "title": {
         "text": "Confusion Matrices of Best Models<br><sup>Normalized by True Label Count</sup>"
        },
        "width": 800,
        "xaxis": {
         "anchor": "y",
         "domain": [
          0,
          0.4
         ],
         "title": {
          "text": "Predicted Labels"
         }
        },
        "xaxis2": {
         "anchor": "y2",
         "domain": [
          0.6000000000000001,
          1
         ],
         "title": {
          "text": "Predicted Labels"
         }
        },
        "xaxis3": {
         "anchor": "y3",
         "domain": [
          0,
          0.4
         ],
         "title": {
          "text": "Predicted Labels"
         }
        },
        "xaxis4": {
         "anchor": "y4",
         "domain": [
          0.6000000000000001,
          1
         ],
         "title": {
          "text": "Predicted Labels"
         }
        },
        "yaxis": {
         "anchor": "x",
         "domain": [
          0.625,
          1
         ],
         "title": {
          "text": "True Labels"
         }
        },
        "yaxis2": {
         "anchor": "x2",
         "domain": [
          0.625,
          1
         ],
         "title": {
          "text": "True Labels"
         }
        },
        "yaxis3": {
         "anchor": "x3",
         "domain": [
          0,
          0.375
         ],
         "title": {
          "text": "True Labels"
         }
        },
        "yaxis4": {
         "anchor": "x4",
         "domain": [
          0,
          0.375
         ],
         "title": {
          "text": "True Labels"
         }
        }
       }
      }
     },
     "metadata": {},
     "output_type": "display_data"
    }
   ],
   "source": [
    "# Set up the subplots\n",
    "fig = make_subplots(rows=2, cols=2, subplot_titles=list(best_models.keys()), horizontal_spacing=0.2)\n",
    "\n",
    "# Iterate through the models and plot the confusion matrices\n",
    "for i, (_k, v) in enumerate(best_models.items()):\n",
    "    classifier = v[\"estimator\"]\n",
    "    y_pred = classifier.predict(X_test)\n",
    "    cm = confusion_matrix(y_test, y_pred)\n",
    "    cm_normalized = confusion_matrix(y_test, y_pred, normalize=\"true\")\n",
    "\n",
    "    # Define cell text content\n",
    "    annotation_text = [\n",
    "        [f\"{norm:.2f}\" for count, norm in zip(row, norm_row)] for row, norm_row in zip(cm, cm_normalized)\n",
    "    ]\n",
    "    hover_text = [\n",
    "        [f\"Count: {count}<br>Normalized: {norm:.2f}\" for count, norm in zip(row, norm_row)]\n",
    "        for row, norm_row in zip(cm, cm_normalized)\n",
    "    ]\n",
    "\n",
    "    # Create heatmap trace\n",
    "    heatmap = go.Heatmap(\n",
    "        z=cm_normalized,\n",
    "        x=[\"Not Booked\", \"Booked\"],\n",
    "        y=[\"Not Booked\", \"Booked\"],\n",
    "        text=annotation_text,\n",
    "        texttemplate=\"%{text}\",\n",
    "        colorscale=\"Blues\",\n",
    "        zmin=0,\n",
    "        zmax=1,\n",
    "        showscale=False,\n",
    "        hovertext=hover_text,\n",
    "        hoverinfo=\"text\",\n",
    "    )\n",
    "\n",
    "    # Add trace to subplot\n",
    "    fig.add_trace(heatmap, row=(i // 2) + 1, col=(i % 2) + 1)\n",
    "\n",
    "    # Update axis titles\n",
    "    fig.update_xaxes(title_text=\"Predicted Labels\", row=(i // 2) + 1, col=(i % 2) + 1)\n",
    "    fig.update_yaxes(title_text=\"True Labels\", row=(i // 2) + 1, col=(i % 2) + 1)\n",
    "\n",
    "# Set size and title\n",
    "fig.update_layout(\n",
    "    height=700,\n",
    "    width=800,\n",
    "    title_text=\"Confusion Matrices of Best Models<br><sup>Normalized by True Label Count</sup>\",\n",
    ")\n",
    "\n",
    "fig.show()"
   ]
  },
  {
   "cell_type": "markdown",
   "metadata": {},
   "source": [
    "### Feature Importance\n",
    "\n",
    "Permutation feature importance measures the decrease in model performance when a feature's values are randomly shuffled.\n"
   ]
  },
  {
   "cell_type": "code",
   "execution_count": 8,
   "metadata": {},
   "outputs": [],
   "source": [
    "def plot_importance(model, x, y):\n",
    "    \"\"\"\n",
    "    Plots permutation feature importance scores.\n",
    "\n",
    "    Args:\n",
    "        model (estimator): The model to evaluate.\n",
    "        x (pd.DataFrame): Feature columns.\n",
    "        y (pd.Series): Target labels.\n",
    "\n",
    "    Displays:\n",
    "        Bar chart of feature importance score means plus standard deviations for the given model.\n",
    "\n",
    "    \"\"\"\n",
    "    title = model.__class__.__name__\n",
    "\n",
    "    perm_importance = permutation_importance(model, x, y, random_state=0, scoring=\"f1\")\n",
    "    importance_df = pd.DataFrame({\n",
    "        \"Feature\": x.columns,\n",
    "        \"Importance\": perm_importance.importances_mean,\n",
    "        \"Importance Std\": perm_importance.importances_std,\n",
    "    })\n",
    "\n",
    "    fig = px.bar(\n",
    "        importance_df.sort_values(by=\"Importance\", ascending=False).head(20).reset_index(drop=True),\n",
    "        x=\"Importance\",\n",
    "        y=\"Feature\",\n",
    "        orientation=\"h\",\n",
    "        error_x=\"Importance Std\",\n",
    "        title=f\"Permutation Feature Importance<br><sup>{title}</sup>\",\n",
    "        height=700,\n",
    "        width=800,\n",
    "    )\n",
    "    fig.update_layout(yaxis={\"categoryorder\": \"total ascending\"})\n",
    "    fig.show()"
   ]
  },
  {
   "cell_type": "code",
   "execution_count": 9,
   "metadata": {},
   "outputs": [
    {
     "data": {
      "application/vnd.plotly.v1+json": {
       "config": {
        "plotlyServerURL": "https://plot.ly"
       },
       "data": [
        {
         "alignmentgroup": "True",
         "error_x": {
          "array": [
           0.001262212164010286,
           0.0015299754684944783,
           0.00158442265038096,
           0.0008343625494333961,
           0.002319018129470554,
           0.00041728272311794654,
           0.001313408092636149,
           0.0003580299647353251,
           0.0006336996127251242,
           0.001171613453816676,
           0.0006974184935004855,
           0.0008918048168800879,
           0.0010598942469062871,
           0.0009308180226630367,
           0.001737745324706674,
           0.00175763934151573,
           0.00031237282523086465,
           0.0004075406327387889,
           0.0005948324608077605,
           0.00023134287944169264
          ]
         },
         "hovertemplate": "Importance=%{x}<br>Feature=%{y}<extra></extra>",
         "legendgroup": "",
         "marker": {
          "color": "#636efa",
          "pattern": {
           "shape": ""
          }
         },
         "name": "",
         "offsetgroup": "",
         "orientation": "h",
         "showlegend": false,
         "textposition": "auto",
         "type": "bar",
         "x": [
          0.02370865942074384,
          0.01933853649078935,
          0.014333533209783233,
          0.013930377309809183,
          0.0110817176052744,
          0.007895038086410478,
          0.00750280923492983,
          0.0068921012635624335,
          0.005664045053993672,
          0.005629841809296954,
          0.0051666679545522955,
          0.004749043987884938,
          0.0037996473718880817,
          0.00349677942112927,
          0.0033536788008411977,
          0.0033480923605152535,
          0.0030972439505833503,
          0.0030876447536883787,
          0.00275143145104767,
          0.002727757996117142
         ],
         "xaxis": "x",
         "y": [
          "booking_origin_Australia",
          "route_to_PEN",
          "route_to_KUL",
          "booking_origin_New Zealand",
          "route_from_PEN",
          "route_from_BKI",
          "sales_channel_Mobile",
          "booking_origin_Singapore",
          "route_from_JHB",
          "booking_origin_Japan",
          "route_from_DEL",
          "booking_origin_Indonesia",
          "booking_origin_Thailand",
          "route_from_KCH",
          "route_to_PER",
          "wants_extra_baggage",
          "route_to_KCH",
          "route_to_MLE",
          "route_from_IKA",
          "booking_origin_Vietnam"
         ],
         "yaxis": "y"
        }
       ],
       "layout": {
        "barmode": "relative",
        "height": 700,
        "legend": {
         "tracegroupgap": 0
        },
        "template": {
         "data": {
          "bar": [
           {
            "error_x": {
             "color": "#2a3f5f"
            },
            "error_y": {
             "color": "#2a3f5f"
            },
            "marker": {
             "line": {
              "color": "#E5ECF6",
              "width": 0.5
             },
             "pattern": {
              "fillmode": "overlay",
              "size": 10,
              "solidity": 0.2
             }
            },
            "type": "bar"
           }
          ],
          "barpolar": [
           {
            "marker": {
             "line": {
              "color": "#E5ECF6",
              "width": 0.5
             },
             "pattern": {
              "fillmode": "overlay",
              "size": 10,
              "solidity": 0.2
             }
            },
            "type": "barpolar"
           }
          ],
          "carpet": [
           {
            "aaxis": {
             "endlinecolor": "#2a3f5f",
             "gridcolor": "white",
             "linecolor": "white",
             "minorgridcolor": "white",
             "startlinecolor": "#2a3f5f"
            },
            "baxis": {
             "endlinecolor": "#2a3f5f",
             "gridcolor": "white",
             "linecolor": "white",
             "minorgridcolor": "white",
             "startlinecolor": "#2a3f5f"
            },
            "type": "carpet"
           }
          ],
          "choropleth": [
           {
            "colorbar": {
             "outlinewidth": 0,
             "ticks": ""
            },
            "type": "choropleth"
           }
          ],
          "contour": [
           {
            "colorbar": {
             "outlinewidth": 0,
             "ticks": ""
            },
            "colorscale": [
             [
              0,
              "#0d0887"
             ],
             [
              0.1111111111111111,
              "#46039f"
             ],
             [
              0.2222222222222222,
              "#7201a8"
             ],
             [
              0.3333333333333333,
              "#9c179e"
             ],
             [
              0.4444444444444444,
              "#bd3786"
             ],
             [
              0.5555555555555556,
              "#d8576b"
             ],
             [
              0.6666666666666666,
              "#ed7953"
             ],
             [
              0.7777777777777778,
              "#fb9f3a"
             ],
             [
              0.8888888888888888,
              "#fdca26"
             ],
             [
              1,
              "#f0f921"
             ]
            ],
            "type": "contour"
           }
          ],
          "contourcarpet": [
           {
            "colorbar": {
             "outlinewidth": 0,
             "ticks": ""
            },
            "type": "contourcarpet"
           }
          ],
          "heatmap": [
           {
            "colorbar": {
             "outlinewidth": 0,
             "ticks": ""
            },
            "colorscale": [
             [
              0,
              "#0d0887"
             ],
             [
              0.1111111111111111,
              "#46039f"
             ],
             [
              0.2222222222222222,
              "#7201a8"
             ],
             [
              0.3333333333333333,
              "#9c179e"
             ],
             [
              0.4444444444444444,
              "#bd3786"
             ],
             [
              0.5555555555555556,
              "#d8576b"
             ],
             [
              0.6666666666666666,
              "#ed7953"
             ],
             [
              0.7777777777777778,
              "#fb9f3a"
             ],
             [
              0.8888888888888888,
              "#fdca26"
             ],
             [
              1,
              "#f0f921"
             ]
            ],
            "type": "heatmap"
           }
          ],
          "heatmapgl": [
           {
            "colorbar": {
             "outlinewidth": 0,
             "ticks": ""
            },
            "colorscale": [
             [
              0,
              "#0d0887"
             ],
             [
              0.1111111111111111,
              "#46039f"
             ],
             [
              0.2222222222222222,
              "#7201a8"
             ],
             [
              0.3333333333333333,
              "#9c179e"
             ],
             [
              0.4444444444444444,
              "#bd3786"
             ],
             [
              0.5555555555555556,
              "#d8576b"
             ],
             [
              0.6666666666666666,
              "#ed7953"
             ],
             [
              0.7777777777777778,
              "#fb9f3a"
             ],
             [
              0.8888888888888888,
              "#fdca26"
             ],
             [
              1,
              "#f0f921"
             ]
            ],
            "type": "heatmapgl"
           }
          ],
          "histogram": [
           {
            "marker": {
             "pattern": {
              "fillmode": "overlay",
              "size": 10,
              "solidity": 0.2
             }
            },
            "type": "histogram"
           }
          ],
          "histogram2d": [
           {
            "colorbar": {
             "outlinewidth": 0,
             "ticks": ""
            },
            "colorscale": [
             [
              0,
              "#0d0887"
             ],
             [
              0.1111111111111111,
              "#46039f"
             ],
             [
              0.2222222222222222,
              "#7201a8"
             ],
             [
              0.3333333333333333,
              "#9c179e"
             ],
             [
              0.4444444444444444,
              "#bd3786"
             ],
             [
              0.5555555555555556,
              "#d8576b"
             ],
             [
              0.6666666666666666,
              "#ed7953"
             ],
             [
              0.7777777777777778,
              "#fb9f3a"
             ],
             [
              0.8888888888888888,
              "#fdca26"
             ],
             [
              1,
              "#f0f921"
             ]
            ],
            "type": "histogram2d"
           }
          ],
          "histogram2dcontour": [
           {
            "colorbar": {
             "outlinewidth": 0,
             "ticks": ""
            },
            "colorscale": [
             [
              0,
              "#0d0887"
             ],
             [
              0.1111111111111111,
              "#46039f"
             ],
             [
              0.2222222222222222,
              "#7201a8"
             ],
             [
              0.3333333333333333,
              "#9c179e"
             ],
             [
              0.4444444444444444,
              "#bd3786"
             ],
             [
              0.5555555555555556,
              "#d8576b"
             ],
             [
              0.6666666666666666,
              "#ed7953"
             ],
             [
              0.7777777777777778,
              "#fb9f3a"
             ],
             [
              0.8888888888888888,
              "#fdca26"
             ],
             [
              1,
              "#f0f921"
             ]
            ],
            "type": "histogram2dcontour"
           }
          ],
          "mesh3d": [
           {
            "colorbar": {
             "outlinewidth": 0,
             "ticks": ""
            },
            "type": "mesh3d"
           }
          ],
          "parcoords": [
           {
            "line": {
             "colorbar": {
              "outlinewidth": 0,
              "ticks": ""
             }
            },
            "type": "parcoords"
           }
          ],
          "pie": [
           {
            "automargin": true,
            "type": "pie"
           }
          ],
          "scatter": [
           {
            "fillpattern": {
             "fillmode": "overlay",
             "size": 10,
             "solidity": 0.2
            },
            "type": "scatter"
           }
          ],
          "scatter3d": [
           {
            "line": {
             "colorbar": {
              "outlinewidth": 0,
              "ticks": ""
             }
            },
            "marker": {
             "colorbar": {
              "outlinewidth": 0,
              "ticks": ""
             }
            },
            "type": "scatter3d"
           }
          ],
          "scattercarpet": [
           {
            "marker": {
             "colorbar": {
              "outlinewidth": 0,
              "ticks": ""
             }
            },
            "type": "scattercarpet"
           }
          ],
          "scattergeo": [
           {
            "marker": {
             "colorbar": {
              "outlinewidth": 0,
              "ticks": ""
             }
            },
            "type": "scattergeo"
           }
          ],
          "scattergl": [
           {
            "marker": {
             "colorbar": {
              "outlinewidth": 0,
              "ticks": ""
             }
            },
            "type": "scattergl"
           }
          ],
          "scattermapbox": [
           {
            "marker": {
             "colorbar": {
              "outlinewidth": 0,
              "ticks": ""
             }
            },
            "type": "scattermapbox"
           }
          ],
          "scatterpolar": [
           {
            "marker": {
             "colorbar": {
              "outlinewidth": 0,
              "ticks": ""
             }
            },
            "type": "scatterpolar"
           }
          ],
          "scatterpolargl": [
           {
            "marker": {
             "colorbar": {
              "outlinewidth": 0,
              "ticks": ""
             }
            },
            "type": "scatterpolargl"
           }
          ],
          "scatterternary": [
           {
            "marker": {
             "colorbar": {
              "outlinewidth": 0,
              "ticks": ""
             }
            },
            "type": "scatterternary"
           }
          ],
          "surface": [
           {
            "colorbar": {
             "outlinewidth": 0,
             "ticks": ""
            },
            "colorscale": [
             [
              0,
              "#0d0887"
             ],
             [
              0.1111111111111111,
              "#46039f"
             ],
             [
              0.2222222222222222,
              "#7201a8"
             ],
             [
              0.3333333333333333,
              "#9c179e"
             ],
             [
              0.4444444444444444,
              "#bd3786"
             ],
             [
              0.5555555555555556,
              "#d8576b"
             ],
             [
              0.6666666666666666,
              "#ed7953"
             ],
             [
              0.7777777777777778,
              "#fb9f3a"
             ],
             [
              0.8888888888888888,
              "#fdca26"
             ],
             [
              1,
              "#f0f921"
             ]
            ],
            "type": "surface"
           }
          ],
          "table": [
           {
            "cells": {
             "fill": {
              "color": "#EBF0F8"
             },
             "line": {
              "color": "white"
             }
            },
            "header": {
             "fill": {
              "color": "#C8D4E3"
             },
             "line": {
              "color": "white"
             }
            },
            "type": "table"
           }
          ]
         },
         "layout": {
          "annotationdefaults": {
           "arrowcolor": "#2a3f5f",
           "arrowhead": 0,
           "arrowwidth": 1
          },
          "autotypenumbers": "strict",
          "coloraxis": {
           "colorbar": {
            "outlinewidth": 0,
            "ticks": ""
           }
          },
          "colorscale": {
           "diverging": [
            [
             0,
             "#8e0152"
            ],
            [
             0.1,
             "#c51b7d"
            ],
            [
             0.2,
             "#de77ae"
            ],
            [
             0.3,
             "#f1b6da"
            ],
            [
             0.4,
             "#fde0ef"
            ],
            [
             0.5,
             "#f7f7f7"
            ],
            [
             0.6,
             "#e6f5d0"
            ],
            [
             0.7,
             "#b8e186"
            ],
            [
             0.8,
             "#7fbc41"
            ],
            [
             0.9,
             "#4d9221"
            ],
            [
             1,
             "#276419"
            ]
           ],
           "sequential": [
            [
             0,
             "#0d0887"
            ],
            [
             0.1111111111111111,
             "#46039f"
            ],
            [
             0.2222222222222222,
             "#7201a8"
            ],
            [
             0.3333333333333333,
             "#9c179e"
            ],
            [
             0.4444444444444444,
             "#bd3786"
            ],
            [
             0.5555555555555556,
             "#d8576b"
            ],
            [
             0.6666666666666666,
             "#ed7953"
            ],
            [
             0.7777777777777778,
             "#fb9f3a"
            ],
            [
             0.8888888888888888,
             "#fdca26"
            ],
            [
             1,
             "#f0f921"
            ]
           ],
           "sequentialminus": [
            [
             0,
             "#0d0887"
            ],
            [
             0.1111111111111111,
             "#46039f"
            ],
            [
             0.2222222222222222,
             "#7201a8"
            ],
            [
             0.3333333333333333,
             "#9c179e"
            ],
            [
             0.4444444444444444,
             "#bd3786"
            ],
            [
             0.5555555555555556,
             "#d8576b"
            ],
            [
             0.6666666666666666,
             "#ed7953"
            ],
            [
             0.7777777777777778,
             "#fb9f3a"
            ],
            [
             0.8888888888888888,
             "#fdca26"
            ],
            [
             1,
             "#f0f921"
            ]
           ]
          },
          "colorway": [
           "#636efa",
           "#EF553B",
           "#00cc96",
           "#ab63fa",
           "#FFA15A",
           "#19d3f3",
           "#FF6692",
           "#B6E880",
           "#FF97FF",
           "#FECB52"
          ],
          "font": {
           "color": "#2a3f5f"
          },
          "geo": {
           "bgcolor": "white",
           "lakecolor": "white",
           "landcolor": "#E5ECF6",
           "showlakes": true,
           "showland": true,
           "subunitcolor": "white"
          },
          "hoverlabel": {
           "align": "left"
          },
          "hovermode": "closest",
          "mapbox": {
           "style": "light"
          },
          "paper_bgcolor": "white",
          "plot_bgcolor": "#E5ECF6",
          "polar": {
           "angularaxis": {
            "gridcolor": "white",
            "linecolor": "white",
            "ticks": ""
           },
           "bgcolor": "#E5ECF6",
           "radialaxis": {
            "gridcolor": "white",
            "linecolor": "white",
            "ticks": ""
           }
          },
          "scene": {
           "xaxis": {
            "backgroundcolor": "#E5ECF6",
            "gridcolor": "white",
            "gridwidth": 2,
            "linecolor": "white",
            "showbackground": true,
            "ticks": "",
            "zerolinecolor": "white"
           },
           "yaxis": {
            "backgroundcolor": "#E5ECF6",
            "gridcolor": "white",
            "gridwidth": 2,
            "linecolor": "white",
            "showbackground": true,
            "ticks": "",
            "zerolinecolor": "white"
           },
           "zaxis": {
            "backgroundcolor": "#E5ECF6",
            "gridcolor": "white",
            "gridwidth": 2,
            "linecolor": "white",
            "showbackground": true,
            "ticks": "",
            "zerolinecolor": "white"
           }
          },
          "shapedefaults": {
           "line": {
            "color": "#2a3f5f"
           }
          },
          "ternary": {
           "aaxis": {
            "gridcolor": "white",
            "linecolor": "white",
            "ticks": ""
           },
           "baxis": {
            "gridcolor": "white",
            "linecolor": "white",
            "ticks": ""
           },
           "bgcolor": "#E5ECF6",
           "caxis": {
            "gridcolor": "white",
            "linecolor": "white",
            "ticks": ""
           }
          },
          "title": {
           "x": 0.05
          },
          "xaxis": {
           "automargin": true,
           "gridcolor": "white",
           "linecolor": "white",
           "ticks": "",
           "title": {
            "standoff": 15
           },
           "zerolinecolor": "white",
           "zerolinewidth": 2
          },
          "yaxis": {
           "automargin": true,
           "gridcolor": "white",
           "linecolor": "white",
           "ticks": "",
           "title": {
            "standoff": 15
           },
           "zerolinecolor": "white",
           "zerolinewidth": 2
          }
         }
        },
        "title": {
         "text": "Permutation Feature Importance<br><sup>SGDClassifier</sup>"
        },
        "width": 800,
        "xaxis": {
         "anchor": "y",
         "domain": [
          0,
          1
         ],
         "title": {
          "text": "Importance"
         }
        },
        "yaxis": {
         "anchor": "x",
         "categoryorder": "total ascending",
         "domain": [
          0,
          1
         ],
         "title": {
          "text": "Feature"
         }
        }
       }
      }
     },
     "metadata": {},
     "output_type": "display_data"
    }
   ],
   "source": [
    "sgd_model = best_models[\"SGDClassifier\"][\"estimator\"]\n",
    "\n",
    "plot_importance(sgd_model, X_test, y_test)"
   ]
  }
 ],
 "metadata": {
  "kernelspec": {
   "display_name": "ba",
   "language": "python",
   "name": "python3"
  },
  "language_info": {
   "codemirror_mode": {
    "name": "ipython",
    "version": 3
   },
   "file_extension": ".py",
   "mimetype": "text/x-python",
   "name": "python",
   "nbconvert_exporter": "python",
   "pygments_lexer": "ipython3",
   "version": "3.10.14"
  }
 },
 "nbformat": 4,
 "nbformat_minor": 2
}
