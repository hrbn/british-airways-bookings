{
 "cells": [
  {
   "cell_type": "markdown",
   "metadata": {},
   "source": [
    "## British Airways - Bookings Prediction\n",
    "\n",
    "Predictive modeling to forecast customer bookings for British Airways.\n",
    "\n",
    "### Goals\n",
    "\n",
    "1. Develop a model to accurately predict whether a booking will be completed.\n",
    "2. Identify the most significant factors influencing customer booking behavior.\n",
    "\n",
    "### Data Overview\n",
    "\n",
    "**Dataset**: 50,000 observations, 7,478 of which resulted in completed bookings.\n",
    "\n",
    "**Features**:\n",
    "\n",
    "- `num_passengers` = number of passengers travelling\n",
    "- `sales_channel` = sales channel booking was made on\n",
    "- `trip_type` = trip Type (Round Trip, One Way, Circle Trip)\n",
    "- `purchase_lead` = number of days between travel date and booking date\n",
    "- `length_of_stay` = number of days spent at destination\n",
    "- `flight_hour` = hour of flight departure\n",
    "- `flight_day` = day of week of flight departure\n",
    "- `route` = origin -> destination flight route\n",
    "- `booking_origin` = country from where booking was made\n",
    "- `wants_extra_baggage` = if the customer wanted extra baggage in the booking\n",
    "- `wants_preferred_seat` = if the customer wanted a preferred seat in the booking\n",
    "- `wants_in_flight_meals` = if the customer wanted in-flight meals in the booking\n",
    "- `flight_duration` = total duration of flight (in hours)\n",
    "\n",
    "**Target**:\n",
    "\n",
    "- `booking_complete` = flag indicating if the customer completed the booking\n",
    "\n",
    "### Methodology\n",
    "\n",
    "- **Class Imbalance:** Addressed using SMOTE-ENN (Synthetic Minority Over-sampling Technique + Edited Nearest Neighbours)\n",
    "- **Models:**\n",
    "  - Stochastic Gradient Descent SVM\n",
    "  - Logistic Regression\n",
    "  - Random Forest\n",
    "  - Bernoulli Naive Bayes\n",
    "- **Hyperparameter Tuning:** Grid search with k-fold cross-validation.\n",
    "- **Feature Importance:** Assessed using permutation importance.\n",
    "\n",
    "### Results\n",
    "\n",
    "**Model Evaluation:** Due to class imbalance, accuracy can be misleading. In this context, it's likely more important to correctly identify bookings that will be completed even if it means having some false positives. The F1 score is used find a balance between capturing most of the completed bookings and ensuring that the predictions are reliable.\n",
    "\n",
    "<br>\n",
    "\n",
    "| Model                  | Accuracy | Recall | Precision | F1    | ROC AUC |\n",
    "| ---------------------- | -------- | ------ | --------- | ----- | ------- |\n",
    "| SGDClassifier          | 0.705    | 0.720  | 0.299     | 0.422 | 0.711   |\n",
    "| LogisticRegression     | 0.722    | 0.698  | 0.309     | 0.428 | 0.712   |\n",
    "| RandomForestClassifier | 0.796    | 0.466  | 0.360     | 0.407 | 0.660   |\n",
    "| BernoulliNB            | 0.677    | 0.728  | 0.279     | 0.403 | 0.698   |\n",
    "\n",
    "<br>\n",
    "\n",
    "**Best Model:** Logistic Regression and SGD Classifier achieved the highest F1 scores, 0.428 and 0.422 respectively, with the SGD Classifier being slightly better at capturing completed bookings.\n",
    "\n",
    "**Key Factors** (based on Permutation Importance from SGD Classifier)\n",
    "\n",
    "- `booking_origin`\n",
    "- `route`\n",
    "- `sales_channel`\n"
   ]
  },
  {
   "cell_type": "code",
   "execution_count": 1,
   "metadata": {},
   "outputs": [],
   "source": [
    "import warnings\n",
    "\n",
    "import numpy as np\n",
    "import pandas as pd\n",
    "import plotly.express as px\n",
    "import plotly.graph_objects as go\n",
    "from plotly.subplots import make_subplots\n",
    "from sklearn.metrics import confusion_matrix\n",
    "from imblearn.combine import SMOTEENN\n",
    "from imblearn.under_sampling import EditedNearestNeighbours\n",
    "from IPython.display import Markdown, display\n",
    "from sklearn.ensemble import RandomForestClassifier\n",
    "from sklearn.inspection import permutation_importance\n",
    "from sklearn.linear_model import LogisticRegression, SGDClassifier\n",
    "from sklearn.naive_bayes import BernoulliNB\n",
    "from sklearn.metrics import (\n",
    "    accuracy_score,\n",
    "    classification_report,\n",
    "    f1_score,\n",
    "    precision_score,\n",
    "    recall_score,\n",
    "    roc_auc_score,\n",
    ")\n",
    "from sklearn.model_selection import GridSearchCV, train_test_split\n",
    "from sklearn.preprocessing import OneHotEncoder, RobustScaler\n",
    "from skrub import TableVectorizer\n",
    "\n",
    "# Configure settings\n",
    "# pio.templates.default = \"plotly_dark\"\n",
    "pd.set_option(\"display.max_columns\", None)\n",
    "pd.set_option(\"display.max_rows\", None)\n",
    "pd.set_option(\"display.max_colwidth\", 130)\n",
    "warnings.filterwarnings(\"ignore\", category=FutureWarning)\n",
    "warnings.filterwarnings(\"ignore\", category=UserWarning)"
   ]
  },
  {
   "cell_type": "markdown",
   "metadata": {},
   "source": [
    "## Setup Pipeline\n"
   ]
  },
  {
   "cell_type": "code",
   "execution_count": 2,
   "metadata": {},
   "outputs": [],
   "source": [
    "df = pd.read_csv(\"data/customer_booking.csv\", encoding=\"ISO-8859-1\")\n",
    "\n",
    "# Encode ordinal columns\n",
    "df[\"flight_day\"] = df[\"flight_day\"].map({\"Mon\": 1, \"Tue\": 2, \"Wed\": 3, \"Thu\": 4, \"Fri\": 5, \"Sat\": 6, \"Sun\": 7})\n",
    "df[\"trip_type\"] = df[\"trip_type\"].map({\"OneWay\": 1, \"RoundTrip\": 2, \"CircleTrip\": 3})\n",
    "\n",
    "# Log transform columns with outliers and skewed distributions\n",
    "for column in [\"purchase_lead\", \"length_of_stay\"]:\n",
    "    df[column] = df[column].apply(lambda x: np.log(x) if x > 0 else 0)\n",
    "\n",
    "# Feature extraction to reduce cardinality\n",
    "df[\"route_from\"] = df[\"route\"].str.slice(stop=3)\n",
    "df[\"route_to\"] = df[\"route\"].str.slice(start=3)\n",
    "df = df.drop(columns=[\"route\"])\n",
    "\n",
    "X = df.drop(columns=[\"booking_complete\"])\n",
    "y = df[\"booking_complete\"]"
   ]
  },
  {
   "cell_type": "markdown",
   "metadata": {},
   "source": [
    "### Data Split & Transform\n"
   ]
  },
  {
   "cell_type": "code",
   "execution_count": 3,
   "metadata": {},
   "outputs": [],
   "source": [
    "# Train-test split\n",
    "X_train, X_test, y_train, y_test = train_test_split(X, y, test_size=0.3, random_state=0, stratify=y)\n",
    "\n",
    "# Define transformers\n",
    "numeric_transformer = RobustScaler()\n",
    "low_cardinality_transformer = OneHotEncoder(\n",
    "    drop=\"first\", dtype=\"float32\", handle_unknown=\"infrequent_if_exist\", sparse_output=False, min_frequency=0.001\n",
    ")\n",
    "\n",
    "# Apply transformations\n",
    "vectorizer = TableVectorizer(\n",
    "    low_cardinality=low_cardinality_transformer,\n",
    "    numeric=numeric_transformer,\n",
    "    cardinality_threshold=120,\n",
    ")\n",
    "X_train = vectorizer.fit_transform(X_train)\n",
    "X_test = vectorizer.transform(X_test)\n",
    "\n",
    "# Handle imbalance by resampling with SMOTE + ENN\n",
    "enn = EditedNearestNeighbours(sampling_strategy=\"auto\", n_neighbors=3)\n",
    "X_train_resampled, y_train_resampled = SMOTEENN(sampling_strategy=\"all\", enn=enn).fit_resample(X_train, y_train)"
   ]
  },
  {
   "cell_type": "markdown",
   "metadata": {},
   "source": [
    "### Models\n"
   ]
  },
  {
   "cell_type": "code",
   "execution_count": 4,
   "metadata": {},
   "outputs": [],
   "source": [
    "# Define models and their hyperparameters for grid search\n",
    "models = {\n",
    "    \"SGDClassifier\": {\n",
    "        \"model\": SGDClassifier(learning_rate=\"optimal\", penalty=\"l2\"),\n",
    "        \"param_grid\": {\n",
    "            \"alpha\": [0.0001, 0.001],\n",
    "            \"average\": [10, 20, 50],\n",
    "            \"loss\": [\"hinge\", \"modified_huber\"],\n",
    "        },\n",
    "    },\n",
    "    \"LogisticRegression\": {\n",
    "        \"model\": LogisticRegression(random_state=0, max_iter=1000, penalty=\"l2\"),\n",
    "        \"param_grid\": {\n",
    "            \"C\": [4, 8, 16, 32],\n",
    "            \"solver\": [\"lbfgs\", \"liblinear\", \"newton-cholesky\"],\n",
    "        },\n",
    "    },\n",
    "    \"RandomForestClassifier\": {\n",
    "        \"model\": RandomForestClassifier(random_state=0, n_jobs=-1, oob_score=f1_score, warm_start=True),\n",
    "        \"param_grid\": {\n",
    "            \"n_estimators\": [100],\n",
    "            \"max_depth\": [None],\n",
    "            \"max_features\": [\"sqrt\", \"log2\"],\n",
    "            \"min_samples_split\": [20, 30, 40],\n",
    "            \"min_samples_leaf\": [10, 20, 30],\n",
    "        },\n",
    "    },\n",
    "    \"BernoulliNB\": {\n",
    "        \"model\": BernoulliNB(),\n",
    "        \"param_grid\": {\"alpha\": [0.001, 0.01, 0.1, 0.5]},\n",
    "    },\n",
    "}"
   ]
  },
  {
   "cell_type": "markdown",
   "metadata": {},
   "source": [
    "### Model Training\n"
   ]
  },
  {
   "cell_type": "code",
   "execution_count": 5,
   "metadata": {},
   "outputs": [],
   "source": [
    "def train_model(X_train, y_train, X_test, y_test, model, param_grid, metric_grid):\n",
    "    \"\"\"\n",
    "    Trains and evaluates the given model using GridSearchCV.\n",
    "\n",
    "    Args:\n",
    "        X_train (pd.DataFrame): Training samples.\n",
    "        y_train (pd.Series): True labels for X_train.\n",
    "        X_test (pd.DataFrame): Testing samples.\n",
    "        y_test (pd.Series): True labels for X_test.\n",
    "        model (estimator object): The model to train.\n",
    "        param_grid (dict): Hyperparameters to search over.\n",
    "\n",
    "    Returns:\n",
    "        best_estimator_ (fitted estimator object): The best estimator found by GridSearchCV.\n",
    "        best_params_ (dict): The best parameters found by GridSearchCV.\n",
    "        scores (dict): Accuracy, balanced accuracy, recall, precision, f1, and kappa scores.\n",
    "\n",
    "    Displays:\n",
    "        Best parameters.\n",
    "        Evaluation scores.\n",
    "\n",
    "    \"\"\"\n",
    "    title = model.__class__.__name__\n",
    "\n",
    "    scoring = \"f1\"\n",
    "\n",
    "    search = GridSearchCV(model, param_grid, cv=3, n_jobs=-1, verbose=1, scoring=scoring)\n",
    "\n",
    "    search.fit(X_train, y_train)\n",
    "    y_pred = search.best_estimator_.predict(X_test)\n",
    "\n",
    "    display(Markdown(f\"\\n**{title} - Best Parameters:**\"))\n",
    "    display(pd.DataFrame(search.best_params_.items(), columns=[\"Parameter\", \"Value\"]))\n",
    "    display(Markdown(f\"\\n**{title} - Classification Report:**\"))\n",
    "    print(classification_report(y_test, y_pred))\n",
    "\n",
    "    scores = {\n",
    "        \"accuracy\": f\"{accuracy_score(y_test, y_pred):.3f}\",\n",
    "        \"recall\": f\"{recall_score(y_test, y_pred):.3f}\",\n",
    "        \"precision\": f\"{precision_score(y_test, y_pred):.3f}\",\n",
    "        \"f1\": f\"{f1_score(y_test, y_pred):.3f}\",\n",
    "        \"roc_auc\": f\"{roc_auc_score(y_test, y_pred):.3f}\",\n",
    "    }\n",
    "\n",
    "    metric_grid[title] = list(scores.values())\n",
    "\n",
    "    return search.best_estimator_, search.best_params_, scores, metric_grid"
   ]
  },
  {
   "cell_type": "code",
   "execution_count": 6,
   "metadata": {},
   "outputs": [
    {
     "data": {
      "text/markdown": [
       "\n",
       "---\n",
       "**Training `SGDClassifier` model**\n"
      ],
      "text/plain": [
       "<IPython.core.display.Markdown object>"
      ]
     },
     "metadata": {},
     "output_type": "display_data"
    },
    {
     "name": "stdout",
     "output_type": "stream",
     "text": [
      "Fitting 3 folds for each of 12 candidates, totalling 36 fits\n"
     ]
    },
    {
     "data": {
      "text/markdown": [
       "\n",
       "**SGDClassifier - Best Parameters:**"
      ],
      "text/plain": [
       "<IPython.core.display.Markdown object>"
      ]
     },
     "metadata": {},
     "output_type": "display_data"
    },
    {
     "data": {
      "text/html": [
       "<div>\n",
       "<style scoped>\n",
       "    .dataframe tbody tr th:only-of-type {\n",
       "        vertical-align: middle;\n",
       "    }\n",
       "\n",
       "    .dataframe tbody tr th {\n",
       "        vertical-align: top;\n",
       "    }\n",
       "\n",
       "    .dataframe thead th {\n",
       "        text-align: right;\n",
       "    }\n",
       "</style>\n",
       "<table border=\"1\" class=\"dataframe\">\n",
       "  <thead>\n",
       "    <tr style=\"text-align: right;\">\n",
       "      <th></th>\n",
       "      <th>Parameter</th>\n",
       "      <th>Value</th>\n",
       "    </tr>\n",
       "  </thead>\n",
       "  <tbody>\n",
       "    <tr>\n",
       "      <th>0</th>\n",
       "      <td>alpha</td>\n",
       "      <td>0.0001</td>\n",
       "    </tr>\n",
       "    <tr>\n",
       "      <th>1</th>\n",
       "      <td>average</td>\n",
       "      <td>50</td>\n",
       "    </tr>\n",
       "    <tr>\n",
       "      <th>2</th>\n",
       "      <td>loss</td>\n",
       "      <td>hinge</td>\n",
       "    </tr>\n",
       "  </tbody>\n",
       "</table>\n",
       "</div>"
      ],
      "text/plain": [
       "  Parameter   Value\n",
       "0     alpha  0.0001\n",
       "1   average      50\n",
       "2      loss   hinge"
      ]
     },
     "metadata": {},
     "output_type": "display_data"
    },
    {
     "data": {
      "text/markdown": [
       "\n",
       "**SGDClassifier - Classification Report:**"
      ],
      "text/plain": [
       "<IPython.core.display.Markdown object>"
      ]
     },
     "metadata": {},
     "output_type": "display_data"
    },
    {
     "name": "stdout",
     "output_type": "stream",
     "text": [
      "              precision    recall  f1-score   support\n",
      "\n",
      "           0       0.93      0.70      0.80     12757\n",
      "           1       0.30      0.72      0.42      2243\n",
      "\n",
      "    accuracy                           0.71     15000\n",
      "   macro avg       0.62      0.71      0.61     15000\n",
      "weighted avg       0.84      0.71      0.75     15000\n",
      "\n"
     ]
    },
    {
     "data": {
      "text/markdown": [
       "\n",
       "---\n",
       "**Training `LogisticRegression` model**\n"
      ],
      "text/plain": [
       "<IPython.core.display.Markdown object>"
      ]
     },
     "metadata": {},
     "output_type": "display_data"
    },
    {
     "name": "stdout",
     "output_type": "stream",
     "text": [
      "Fitting 3 folds for each of 12 candidates, totalling 36 fits\n"
     ]
    },
    {
     "data": {
      "text/markdown": [
       "\n",
       "**LogisticRegression - Best Parameters:**"
      ],
      "text/plain": [
       "<IPython.core.display.Markdown object>"
      ]
     },
     "metadata": {},
     "output_type": "display_data"
    },
    {
     "data": {
      "text/html": [
       "<div>\n",
       "<style scoped>\n",
       "    .dataframe tbody tr th:only-of-type {\n",
       "        vertical-align: middle;\n",
       "    }\n",
       "\n",
       "    .dataframe tbody tr th {\n",
       "        vertical-align: top;\n",
       "    }\n",
       "\n",
       "    .dataframe thead th {\n",
       "        text-align: right;\n",
       "    }\n",
       "</style>\n",
       "<table border=\"1\" class=\"dataframe\">\n",
       "  <thead>\n",
       "    <tr style=\"text-align: right;\">\n",
       "      <th></th>\n",
       "      <th>Parameter</th>\n",
       "      <th>Value</th>\n",
       "    </tr>\n",
       "  </thead>\n",
       "  <tbody>\n",
       "    <tr>\n",
       "      <th>0</th>\n",
       "      <td>C</td>\n",
       "      <td>32</td>\n",
       "    </tr>\n",
       "    <tr>\n",
       "      <th>1</th>\n",
       "      <td>solver</td>\n",
       "      <td>newton-cholesky</td>\n",
       "    </tr>\n",
       "  </tbody>\n",
       "</table>\n",
       "</div>"
      ],
      "text/plain": [
       "  Parameter            Value\n",
       "0         C               32\n",
       "1    solver  newton-cholesky"
      ]
     },
     "metadata": {},
     "output_type": "display_data"
    },
    {
     "data": {
      "text/markdown": [
       "\n",
       "**LogisticRegression - Classification Report:**"
      ],
      "text/plain": [
       "<IPython.core.display.Markdown object>"
      ]
     },
     "metadata": {},
     "output_type": "display_data"
    },
    {
     "name": "stdout",
     "output_type": "stream",
     "text": [
      "              precision    recall  f1-score   support\n",
      "\n",
      "           0       0.93      0.73      0.82     12757\n",
      "           1       0.31      0.70      0.43      2243\n",
      "\n",
      "    accuracy                           0.72     15000\n",
      "   macro avg       0.62      0.71      0.62     15000\n",
      "weighted avg       0.84      0.72      0.76     15000\n",
      "\n"
     ]
    },
    {
     "data": {
      "text/markdown": [
       "\n",
       "---\n",
       "**Training `RandomForestClassifier` model**\n"
      ],
      "text/plain": [
       "<IPython.core.display.Markdown object>"
      ]
     },
     "metadata": {},
     "output_type": "display_data"
    },
    {
     "name": "stdout",
     "output_type": "stream",
     "text": [
      "Fitting 3 folds for each of 18 candidates, totalling 54 fits\n"
     ]
    },
    {
     "data": {
      "text/markdown": [
       "\n",
       "**RandomForestClassifier - Best Parameters:**"
      ],
      "text/plain": [
       "<IPython.core.display.Markdown object>"
      ]
     },
     "metadata": {},
     "output_type": "display_data"
    },
    {
     "data": {
      "text/html": [
       "<div>\n",
       "<style scoped>\n",
       "    .dataframe tbody tr th:only-of-type {\n",
       "        vertical-align: middle;\n",
       "    }\n",
       "\n",
       "    .dataframe tbody tr th {\n",
       "        vertical-align: top;\n",
       "    }\n",
       "\n",
       "    .dataframe thead th {\n",
       "        text-align: right;\n",
       "    }\n",
       "</style>\n",
       "<table border=\"1\" class=\"dataframe\">\n",
       "  <thead>\n",
       "    <tr style=\"text-align: right;\">\n",
       "      <th></th>\n",
       "      <th>Parameter</th>\n",
       "      <th>Value</th>\n",
       "    </tr>\n",
       "  </thead>\n",
       "  <tbody>\n",
       "    <tr>\n",
       "      <th>0</th>\n",
       "      <td>max_depth</td>\n",
       "      <td>None</td>\n",
       "    </tr>\n",
       "    <tr>\n",
       "      <th>1</th>\n",
       "      <td>max_features</td>\n",
       "      <td>sqrt</td>\n",
       "    </tr>\n",
       "    <tr>\n",
       "      <th>2</th>\n",
       "      <td>min_samples_leaf</td>\n",
       "      <td>10</td>\n",
       "    </tr>\n",
       "    <tr>\n",
       "      <th>3</th>\n",
       "      <td>min_samples_split</td>\n",
       "      <td>20</td>\n",
       "    </tr>\n",
       "    <tr>\n",
       "      <th>4</th>\n",
       "      <td>n_estimators</td>\n",
       "      <td>100</td>\n",
       "    </tr>\n",
       "  </tbody>\n",
       "</table>\n",
       "</div>"
      ],
      "text/plain": [
       "           Parameter Value\n",
       "0          max_depth  None\n",
       "1       max_features  sqrt\n",
       "2   min_samples_leaf    10\n",
       "3  min_samples_split    20\n",
       "4       n_estimators   100"
      ]
     },
     "metadata": {},
     "output_type": "display_data"
    },
    {
     "data": {
      "text/markdown": [
       "\n",
       "**RandomForestClassifier - Classification Report:**"
      ],
      "text/plain": [
       "<IPython.core.display.Markdown object>"
      ]
     },
     "metadata": {},
     "output_type": "display_data"
    },
    {
     "name": "stdout",
     "output_type": "stream",
     "text": [
      "              precision    recall  f1-score   support\n",
      "\n",
      "           0       0.90      0.85      0.88     12757\n",
      "           1       0.36      0.47      0.41      2243\n",
      "\n",
      "    accuracy                           0.80     15000\n",
      "   macro avg       0.63      0.66      0.64     15000\n",
      "weighted avg       0.82      0.80      0.81     15000\n",
      "\n"
     ]
    },
    {
     "data": {
      "text/markdown": [
       "\n",
       "---\n",
       "**Training `BernoulliNB` model**\n"
      ],
      "text/plain": [
       "<IPython.core.display.Markdown object>"
      ]
     },
     "metadata": {},
     "output_type": "display_data"
    },
    {
     "name": "stdout",
     "output_type": "stream",
     "text": [
      "Fitting 3 folds for each of 4 candidates, totalling 12 fits\n"
     ]
    },
    {
     "data": {
      "text/markdown": [
       "\n",
       "**BernoulliNB - Best Parameters:**"
      ],
      "text/plain": [
       "<IPython.core.display.Markdown object>"
      ]
     },
     "metadata": {},
     "output_type": "display_data"
    },
    {
     "data": {
      "text/html": [
       "<div>\n",
       "<style scoped>\n",
       "    .dataframe tbody tr th:only-of-type {\n",
       "        vertical-align: middle;\n",
       "    }\n",
       "\n",
       "    .dataframe tbody tr th {\n",
       "        vertical-align: top;\n",
       "    }\n",
       "\n",
       "    .dataframe thead th {\n",
       "        text-align: right;\n",
       "    }\n",
       "</style>\n",
       "<table border=\"1\" class=\"dataframe\">\n",
       "  <thead>\n",
       "    <tr style=\"text-align: right;\">\n",
       "      <th></th>\n",
       "      <th>Parameter</th>\n",
       "      <th>Value</th>\n",
       "    </tr>\n",
       "  </thead>\n",
       "  <tbody>\n",
       "    <tr>\n",
       "      <th>0</th>\n",
       "      <td>alpha</td>\n",
       "      <td>0.5</td>\n",
       "    </tr>\n",
       "  </tbody>\n",
       "</table>\n",
       "</div>"
      ],
      "text/plain": [
       "  Parameter  Value\n",
       "0     alpha    0.5"
      ]
     },
     "metadata": {},
     "output_type": "display_data"
    },
    {
     "data": {
      "text/markdown": [
       "\n",
       "**BernoulliNB - Classification Report:**"
      ],
      "text/plain": [
       "<IPython.core.display.Markdown object>"
      ]
     },
     "metadata": {},
     "output_type": "display_data"
    },
    {
     "name": "stdout",
     "output_type": "stream",
     "text": [
      "              precision    recall  f1-score   support\n",
      "\n",
      "           0       0.93      0.67      0.78     12757\n",
      "           1       0.28      0.73      0.40      2243\n",
      "\n",
      "    accuracy                           0.68     15000\n",
      "   macro avg       0.61      0.70      0.59     15000\n",
      "weighted avg       0.84      0.68      0.72     15000\n",
      "\n"
     ]
    },
    {
     "data": {
      "text/markdown": [
       "\n",
       "---\n",
       "#### Best Test Scores:"
      ],
      "text/plain": [
       "<IPython.core.display.Markdown object>"
      ]
     },
     "metadata": {},
     "output_type": "display_data"
    },
    {
     "data": {
      "text/html": [
       "<style type=\"text/css\">\n",
       "#T_61b33_row1_col3, #T_61b33_row1_col4, #T_61b33_row2_col0, #T_61b33_row2_col2, #T_61b33_row3_col1 {\n",
       "  background-color: green;\n",
       "}\n",
       "</style>\n",
       "<table id=\"T_61b33\">\n",
       "  <thead>\n",
       "    <tr>\n",
       "      <th class=\"blank level0\" >&nbsp;</th>\n",
       "      <th id=\"T_61b33_level0_col0\" class=\"col_heading level0 col0\" >accuracy</th>\n",
       "      <th id=\"T_61b33_level0_col1\" class=\"col_heading level0 col1\" >recall</th>\n",
       "      <th id=\"T_61b33_level0_col2\" class=\"col_heading level0 col2\" >precision</th>\n",
       "      <th id=\"T_61b33_level0_col3\" class=\"col_heading level0 col3\" >f1</th>\n",
       "      <th id=\"T_61b33_level0_col4\" class=\"col_heading level0 col4\" >roc_auc</th>\n",
       "    </tr>\n",
       "  </thead>\n",
       "  <tbody>\n",
       "    <tr>\n",
       "      <th id=\"T_61b33_level0_row0\" class=\"row_heading level0 row0\" >SGDClassifier</th>\n",
       "      <td id=\"T_61b33_row0_col0\" class=\"data row0 col0\" >0.705</td>\n",
       "      <td id=\"T_61b33_row0_col1\" class=\"data row0 col1\" >0.720</td>\n",
       "      <td id=\"T_61b33_row0_col2\" class=\"data row0 col2\" >0.299</td>\n",
       "      <td id=\"T_61b33_row0_col3\" class=\"data row0 col3\" >0.422</td>\n",
       "      <td id=\"T_61b33_row0_col4\" class=\"data row0 col4\" >0.711</td>\n",
       "    </tr>\n",
       "    <tr>\n",
       "      <th id=\"T_61b33_level0_row1\" class=\"row_heading level0 row1\" >LogisticRegression</th>\n",
       "      <td id=\"T_61b33_row1_col0\" class=\"data row1 col0\" >0.722</td>\n",
       "      <td id=\"T_61b33_row1_col1\" class=\"data row1 col1\" >0.698</td>\n",
       "      <td id=\"T_61b33_row1_col2\" class=\"data row1 col2\" >0.309</td>\n",
       "      <td id=\"T_61b33_row1_col3\" class=\"data row1 col3\" >0.428</td>\n",
       "      <td id=\"T_61b33_row1_col4\" class=\"data row1 col4\" >0.712</td>\n",
       "    </tr>\n",
       "    <tr>\n",
       "      <th id=\"T_61b33_level0_row2\" class=\"row_heading level0 row2\" >RandomForestClassifier</th>\n",
       "      <td id=\"T_61b33_row2_col0\" class=\"data row2 col0\" >0.796</td>\n",
       "      <td id=\"T_61b33_row2_col1\" class=\"data row2 col1\" >0.466</td>\n",
       "      <td id=\"T_61b33_row2_col2\" class=\"data row2 col2\" >0.360</td>\n",
       "      <td id=\"T_61b33_row2_col3\" class=\"data row2 col3\" >0.407</td>\n",
       "      <td id=\"T_61b33_row2_col4\" class=\"data row2 col4\" >0.660</td>\n",
       "    </tr>\n",
       "    <tr>\n",
       "      <th id=\"T_61b33_level0_row3\" class=\"row_heading level0 row3\" >BernoulliNB</th>\n",
       "      <td id=\"T_61b33_row3_col0\" class=\"data row3 col0\" >0.677</td>\n",
       "      <td id=\"T_61b33_row3_col1\" class=\"data row3 col1\" >0.728</td>\n",
       "      <td id=\"T_61b33_row3_col2\" class=\"data row3 col2\" >0.279</td>\n",
       "      <td id=\"T_61b33_row3_col3\" class=\"data row3 col3\" >0.403</td>\n",
       "      <td id=\"T_61b33_row3_col4\" class=\"data row3 col4\" >0.698</td>\n",
       "    </tr>\n",
       "  </tbody>\n",
       "</table>\n"
      ],
      "text/plain": [
       "<pandas.io.formats.style.Styler at 0x1576abfa0>"
      ]
     },
     "metadata": {},
     "output_type": "display_data"
    }
   ],
   "source": [
    "# Set up empty DataFrame to store calculated metrics\n",
    "best_models = {}\n",
    "model_metric_grid = pd.DataFrame(columns=models.keys(), index=[\"accuracy\", \"recall\", \"precision\", \"f1\", \"roc_auc\"])\n",
    "\n",
    "# Initiate training and evaluation\n",
    "for name, config in models.items():\n",
    "    display(Markdown(f\"\\n---\\n**Training `{name}` model**\\n\"))\n",
    "    best_estimator, best_params, best_scores, model_metric_grid = train_model(\n",
    "        X_train_resampled, y_train_resampled, X_test, y_test, config[\"model\"], config[\"param_grid\"], model_metric_grid\n",
    "    )\n",
    "    best_models[name] = {\"estimator\": best_estimator, \"params\": best_params, \"scores\": best_scores}\n",
    "\n",
    "# Display metrics DataFrame, highlighting the highest value in each column\n",
    "display(Markdown(\"\\n---\\n#### Best Test Scores:\"), model_metric_grid.T.style.highlight_max(color=\"green\", axis=0))"
   ]
  },
  {
   "cell_type": "markdown",
   "metadata": {},
   "source": [
    "### Plot Confusion Matrices\n"
   ]
  },
  {
   "cell_type": "code",
   "execution_count": 7,
   "metadata": {},
   "outputs": [
    {
     "data": {
      "application/vnd.plotly.v1+json": {
       "config": {
        "plotlyServerURL": "https://plot.ly"
       },
       "data": [
        {
         "colorscale": [
          [
           0,
           "rgb(247,251,255)"
          ],
          [
           0.125,
           "rgb(222,235,247)"
          ],
          [
           0.25,
           "rgb(198,219,239)"
          ],
          [
           0.375,
           "rgb(158,202,225)"
          ],
          [
           0.5,
           "rgb(107,174,214)"
          ],
          [
           0.625,
           "rgb(66,146,198)"
          ],
          [
           0.75,
           "rgb(33,113,181)"
          ],
          [
           0.875,
           "rgb(8,81,156)"
          ],
          [
           1,
           "rgb(8,48,107)"
          ]
         ],
         "hoverinfo": "text",
         "hovertext": [
          [
           "Count: 8966<br>Normalized: 0.70",
           "Count: 3791<br>Normalized: 0.30"
          ],
          [
           "Count: 628<br>Normalized: 0.28",
           "Count: 1615<br>Normalized: 0.72"
          ]
         ],
         "showscale": false,
         "text": [
          [
           "0.70",
           "0.30"
          ],
          [
           "0.28",
           "0.72"
          ]
         ],
         "texttemplate": "%{text}",
         "type": "heatmap",
         "x": [
          "Not Booked",
          "Booked"
         ],
         "xaxis": "x",
         "y": [
          "Not Booked",
          "Booked"
         ],
         "yaxis": "y",
         "z": [
          [
           0.7028298189229443,
           0.29717018107705573
          ],
          [
           0.2799821667409719,
           0.7200178332590281
          ]
         ],
         "zmax": 1,
         "zmin": 0
        },
        {
         "colorscale": [
          [
           0,
           "rgb(247,251,255)"
          ],
          [
           0.125,
           "rgb(222,235,247)"
          ],
          [
           0.25,
           "rgb(198,219,239)"
          ],
          [
           0.375,
           "rgb(158,202,225)"
          ],
          [
           0.5,
           "rgb(107,174,214)"
          ],
          [
           0.625,
           "rgb(66,146,198)"
          ],
          [
           0.75,
           "rgb(33,113,181)"
          ],
          [
           0.875,
           "rgb(8,81,156)"
          ],
          [
           1,
           "rgb(8,48,107)"
          ]
         ],
         "hoverinfo": "text",
         "hovertext": [
          [
           "Count: 9259<br>Normalized: 0.73",
           "Count: 3498<br>Normalized: 0.27"
          ],
          [
           "Count: 678<br>Normalized: 0.30",
           "Count: 1565<br>Normalized: 0.70"
          ]
         ],
         "showscale": false,
         "text": [
          [
           "0.73",
           "0.27"
          ],
          [
           "0.30",
           "0.70"
          ]
         ],
         "texttemplate": "%{text}",
         "type": "heatmap",
         "x": [
          "Not Booked",
          "Booked"
         ],
         "xaxis": "x2",
         "y": [
          "Not Booked",
          "Booked"
         ],
         "yaxis": "y2",
         "z": [
          [
           0.7257976013169241,
           0.27420239868307594
          ],
          [
           0.30227374052608114,
           0.6977262594739189
          ]
         ],
         "zmax": 1,
         "zmin": 0
        },
        {
         "colorscale": [
          [
           0,
           "rgb(247,251,255)"
          ],
          [
           0.125,
           "rgb(222,235,247)"
          ],
          [
           0.25,
           "rgb(198,219,239)"
          ],
          [
           0.375,
           "rgb(158,202,225)"
          ],
          [
           0.5,
           "rgb(107,174,214)"
          ],
          [
           0.625,
           "rgb(66,146,198)"
          ],
          [
           0.75,
           "rgb(33,113,181)"
          ],
          [
           0.875,
           "rgb(8,81,156)"
          ],
          [
           1,
           "rgb(8,48,107)"
          ]
         ],
         "hoverinfo": "text",
         "hovertext": [
          [
           "Count: 10900<br>Normalized: 0.85",
           "Count: 1857<br>Normalized: 0.15"
          ],
          [
           "Count: 1197<br>Normalized: 0.53",
           "Count: 1046<br>Normalized: 0.47"
          ]
         ],
         "showscale": false,
         "text": [
          [
           "0.85",
           "0.15"
          ],
          [
           "0.53",
           "0.47"
          ]
         ],
         "texttemplate": "%{text}",
         "type": "heatmap",
         "x": [
          "Not Booked",
          "Booked"
         ],
         "xaxis": "x3",
         "y": [
          "Not Booked",
          "Booked"
         ],
         "yaxis": "y3",
         "z": [
          [
           0.8544328603903739,
           0.14556713960962608
          ],
          [
           0.533660276415515,
           0.46633972358448506
          ]
         ],
         "zmax": 1,
         "zmin": 0
        },
        {
         "colorscale": [
          [
           0,
           "rgb(247,251,255)"
          ],
          [
           0.125,
           "rgb(222,235,247)"
          ],
          [
           0.25,
           "rgb(198,219,239)"
          ],
          [
           0.375,
           "rgb(158,202,225)"
          ],
          [
           0.5,
           "rgb(107,174,214)"
          ],
          [
           0.625,
           "rgb(66,146,198)"
          ],
          [
           0.75,
           "rgb(33,113,181)"
          ],
          [
           0.875,
           "rgb(8,81,156)"
          ],
          [
           1,
           "rgb(8,48,107)"
          ]
         ],
         "hoverinfo": "text",
         "hovertext": [
          [
           "Count: 8528<br>Normalized: 0.67",
           "Count: 4229<br>Normalized: 0.33"
          ],
          [
           "Count: 609<br>Normalized: 0.27",
           "Count: 1634<br>Normalized: 0.73"
          ]
         ],
         "showscale": false,
         "text": [
          [
           "0.67",
           "0.33"
          ],
          [
           "0.27",
           "0.73"
          ]
         ],
         "texttemplate": "%{text}",
         "type": "heatmap",
         "x": [
          "Not Booked",
          "Booked"
         ],
         "xaxis": "x4",
         "y": [
          "Not Booked",
          "Booked"
         ],
         "yaxis": "y4",
         "z": [
          [
           0.668495727835698,
           0.33150427216430195
          ],
          [
           0.27151136870263043,
           0.7284886312973696
          ]
         ],
         "zmax": 1,
         "zmin": 0
        }
       ],
       "layout": {
        "annotations": [
         {
          "font": {
           "size": 16
          },
          "showarrow": false,
          "text": "SGDClassifier",
          "x": 0.2,
          "xanchor": "center",
          "xref": "paper",
          "y": 1,
          "yanchor": "bottom",
          "yref": "paper"
         },
         {
          "font": {
           "size": 16
          },
          "showarrow": false,
          "text": "LogisticRegression",
          "x": 0.8,
          "xanchor": "center",
          "xref": "paper",
          "y": 1,
          "yanchor": "bottom",
          "yref": "paper"
         },
         {
          "font": {
           "size": 16
          },
          "showarrow": false,
          "text": "RandomForestClassifier",
          "x": 0.2,
          "xanchor": "center",
          "xref": "paper",
          "y": 0.375,
          "yanchor": "bottom",
          "yref": "paper"
         },
         {
          "font": {
           "size": 16
          },
          "showarrow": false,
          "text": "BernoulliNB",
          "x": 0.8,
          "xanchor": "center",
          "xref": "paper",
          "y": 0.375,
          "yanchor": "bottom",
          "yref": "paper"
         }
        ],
        "height": 700,
        "template": {
         "data": {
          "bar": [
           {
            "error_x": {
             "color": "#2a3f5f"
            },
            "error_y": {
             "color": "#2a3f5f"
            },
            "marker": {
             "line": {
              "color": "#E5ECF6",
              "width": 0.5
             },
             "pattern": {
              "fillmode": "overlay",
              "size": 10,
              "solidity": 0.2
             }
            },
            "type": "bar"
           }
          ],
          "barpolar": [
           {
            "marker": {
             "line": {
              "color": "#E5ECF6",
              "width": 0.5
             },
             "pattern": {
              "fillmode": "overlay",
              "size": 10,
              "solidity": 0.2
             }
            },
            "type": "barpolar"
           }
          ],
          "carpet": [
           {
            "aaxis": {
             "endlinecolor": "#2a3f5f",
             "gridcolor": "white",
             "linecolor": "white",
             "minorgridcolor": "white",
             "startlinecolor": "#2a3f5f"
            },
            "baxis": {
             "endlinecolor": "#2a3f5f",
             "gridcolor": "white",
             "linecolor": "white",
             "minorgridcolor": "white",
             "startlinecolor": "#2a3f5f"
            },
            "type": "carpet"
           }
          ],
          "choropleth": [
           {
            "colorbar": {
             "outlinewidth": 0,
             "ticks": ""
            },
            "type": "choropleth"
           }
          ],
          "contour": [
           {
            "colorbar": {
             "outlinewidth": 0,
             "ticks": ""
            },
            "colorscale": [
             [
              0,
              "#0d0887"
             ],
             [
              0.1111111111111111,
              "#46039f"
             ],
             [
              0.2222222222222222,
              "#7201a8"
             ],
             [
              0.3333333333333333,
              "#9c179e"
             ],
             [
              0.4444444444444444,
              "#bd3786"
             ],
             [
              0.5555555555555556,
              "#d8576b"
             ],
             [
              0.6666666666666666,
              "#ed7953"
             ],
             [
              0.7777777777777778,
              "#fb9f3a"
             ],
             [
              0.8888888888888888,
              "#fdca26"
             ],
             [
              1,
              "#f0f921"
             ]
            ],
            "type": "contour"
           }
          ],
          "contourcarpet": [
           {
            "colorbar": {
             "outlinewidth": 0,
             "ticks": ""
            },
            "type": "contourcarpet"
           }
          ],
          "heatmap": [
           {
            "colorbar": {
             "outlinewidth": 0,
             "ticks": ""
            },
            "colorscale": [
             [
              0,
              "#0d0887"
             ],
             [
              0.1111111111111111,
              "#46039f"
             ],
             [
              0.2222222222222222,
              "#7201a8"
             ],
             [
              0.3333333333333333,
              "#9c179e"
             ],
             [
              0.4444444444444444,
              "#bd3786"
             ],
             [
              0.5555555555555556,
              "#d8576b"
             ],
             [
              0.6666666666666666,
              "#ed7953"
             ],
             [
              0.7777777777777778,
              "#fb9f3a"
             ],
             [
              0.8888888888888888,
              "#fdca26"
             ],
             [
              1,
              "#f0f921"
             ]
            ],
            "type": "heatmap"
           }
          ],
          "heatmapgl": [
           {
            "colorbar": {
             "outlinewidth": 0,
             "ticks": ""
            },
            "colorscale": [
             [
              0,
              "#0d0887"
             ],
             [
              0.1111111111111111,
              "#46039f"
             ],
             [
              0.2222222222222222,
              "#7201a8"
             ],
             [
              0.3333333333333333,
              "#9c179e"
             ],
             [
              0.4444444444444444,
              "#bd3786"
             ],
             [
              0.5555555555555556,
              "#d8576b"
             ],
             [
              0.6666666666666666,
              "#ed7953"
             ],
             [
              0.7777777777777778,
              "#fb9f3a"
             ],
             [
              0.8888888888888888,
              "#fdca26"
             ],
             [
              1,
              "#f0f921"
             ]
            ],
            "type": "heatmapgl"
           }
          ],
          "histogram": [
           {
            "marker": {
             "pattern": {
              "fillmode": "overlay",
              "size": 10,
              "solidity": 0.2
             }
            },
            "type": "histogram"
           }
          ],
          "histogram2d": [
           {
            "colorbar": {
             "outlinewidth": 0,
             "ticks": ""
            },
            "colorscale": [
             [
              0,
              "#0d0887"
             ],
             [
              0.1111111111111111,
              "#46039f"
             ],
             [
              0.2222222222222222,
              "#7201a8"
             ],
             [
              0.3333333333333333,
              "#9c179e"
             ],
             [
              0.4444444444444444,
              "#bd3786"
             ],
             [
              0.5555555555555556,
              "#d8576b"
             ],
             [
              0.6666666666666666,
              "#ed7953"
             ],
             [
              0.7777777777777778,
              "#fb9f3a"
             ],
             [
              0.8888888888888888,
              "#fdca26"
             ],
             [
              1,
              "#f0f921"
             ]
            ],
            "type": "histogram2d"
           }
          ],
          "histogram2dcontour": [
           {
            "colorbar": {
             "outlinewidth": 0,
             "ticks": ""
            },
            "colorscale": [
             [
              0,
              "#0d0887"
             ],
             [
              0.1111111111111111,
              "#46039f"
             ],
             [
              0.2222222222222222,
              "#7201a8"
             ],
             [
              0.3333333333333333,
              "#9c179e"
             ],
             [
              0.4444444444444444,
              "#bd3786"
             ],
             [
              0.5555555555555556,
              "#d8576b"
             ],
             [
              0.6666666666666666,
              "#ed7953"
             ],
             [
              0.7777777777777778,
              "#fb9f3a"
             ],
             [
              0.8888888888888888,
              "#fdca26"
             ],
             [
              1,
              "#f0f921"
             ]
            ],
            "type": "histogram2dcontour"
           }
          ],
          "mesh3d": [
           {
            "colorbar": {
             "outlinewidth": 0,
             "ticks": ""
            },
            "type": "mesh3d"
           }
          ],
          "parcoords": [
           {
            "line": {
             "colorbar": {
              "outlinewidth": 0,
              "ticks": ""
             }
            },
            "type": "parcoords"
           }
          ],
          "pie": [
           {
            "automargin": true,
            "type": "pie"
           }
          ],
          "scatter": [
           {
            "fillpattern": {
             "fillmode": "overlay",
             "size": 10,
             "solidity": 0.2
            },
            "type": "scatter"
           }
          ],
          "scatter3d": [
           {
            "line": {
             "colorbar": {
              "outlinewidth": 0,
              "ticks": ""
             }
            },
            "marker": {
             "colorbar": {
              "outlinewidth": 0,
              "ticks": ""
             }
            },
            "type": "scatter3d"
           }
          ],
          "scattercarpet": [
           {
            "marker": {
             "colorbar": {
              "outlinewidth": 0,
              "ticks": ""
             }
            },
            "type": "scattercarpet"
           }
          ],
          "scattergeo": [
           {
            "marker": {
             "colorbar": {
              "outlinewidth": 0,
              "ticks": ""
             }
            },
            "type": "scattergeo"
           }
          ],
          "scattergl": [
           {
            "marker": {
             "colorbar": {
              "outlinewidth": 0,
              "ticks": ""
             }
            },
            "type": "scattergl"
           }
          ],
          "scattermapbox": [
           {
            "marker": {
             "colorbar": {
              "outlinewidth": 0,
              "ticks": ""
             }
            },
            "type": "scattermapbox"
           }
          ],
          "scatterpolar": [
           {
            "marker": {
             "colorbar": {
              "outlinewidth": 0,
              "ticks": ""
             }
            },
            "type": "scatterpolar"
           }
          ],
          "scatterpolargl": [
           {
            "marker": {
             "colorbar": {
              "outlinewidth": 0,
              "ticks": ""
             }
            },
            "type": "scatterpolargl"
           }
          ],
          "scatterternary": [
           {
            "marker": {
             "colorbar": {
              "outlinewidth": 0,
              "ticks": ""
             }
            },
            "type": "scatterternary"
           }
          ],
          "surface": [
           {
            "colorbar": {
             "outlinewidth": 0,
             "ticks": ""
            },
            "colorscale": [
             [
              0,
              "#0d0887"
             ],
             [
              0.1111111111111111,
              "#46039f"
             ],
             [
              0.2222222222222222,
              "#7201a8"
             ],
             [
              0.3333333333333333,
              "#9c179e"
             ],
             [
              0.4444444444444444,
              "#bd3786"
             ],
             [
              0.5555555555555556,
              "#d8576b"
             ],
             [
              0.6666666666666666,
              "#ed7953"
             ],
             [
              0.7777777777777778,
              "#fb9f3a"
             ],
             [
              0.8888888888888888,
              "#fdca26"
             ],
             [
              1,
              "#f0f921"
             ]
            ],
            "type": "surface"
           }
          ],
          "table": [
           {
            "cells": {
             "fill": {
              "color": "#EBF0F8"
             },
             "line": {
              "color": "white"
             }
            },
            "header": {
             "fill": {
              "color": "#C8D4E3"
             },
             "line": {
              "color": "white"
             }
            },
            "type": "table"
           }
          ]
         },
         "layout": {
          "annotationdefaults": {
           "arrowcolor": "#2a3f5f",
           "arrowhead": 0,
           "arrowwidth": 1
          },
          "autotypenumbers": "strict",
          "coloraxis": {
           "colorbar": {
            "outlinewidth": 0,
            "ticks": ""
           }
          },
          "colorscale": {
           "diverging": [
            [
             0,
             "#8e0152"
            ],
            [
             0.1,
             "#c51b7d"
            ],
            [
             0.2,
             "#de77ae"
            ],
            [
             0.3,
             "#f1b6da"
            ],
            [
             0.4,
             "#fde0ef"
            ],
            [
             0.5,
             "#f7f7f7"
            ],
            [
             0.6,
             "#e6f5d0"
            ],
            [
             0.7,
             "#b8e186"
            ],
            [
             0.8,
             "#7fbc41"
            ],
            [
             0.9,
             "#4d9221"
            ],
            [
             1,
             "#276419"
            ]
           ],
           "sequential": [
            [
             0,
             "#0d0887"
            ],
            [
             0.1111111111111111,
             "#46039f"
            ],
            [
             0.2222222222222222,
             "#7201a8"
            ],
            [
             0.3333333333333333,
             "#9c179e"
            ],
            [
             0.4444444444444444,
             "#bd3786"
            ],
            [
             0.5555555555555556,
             "#d8576b"
            ],
            [
             0.6666666666666666,
             "#ed7953"
            ],
            [
             0.7777777777777778,
             "#fb9f3a"
            ],
            [
             0.8888888888888888,
             "#fdca26"
            ],
            [
             1,
             "#f0f921"
            ]
           ],
           "sequentialminus": [
            [
             0,
             "#0d0887"
            ],
            [
             0.1111111111111111,
             "#46039f"
            ],
            [
             0.2222222222222222,
             "#7201a8"
            ],
            [
             0.3333333333333333,
             "#9c179e"
            ],
            [
             0.4444444444444444,
             "#bd3786"
            ],
            [
             0.5555555555555556,
             "#d8576b"
            ],
            [
             0.6666666666666666,
             "#ed7953"
            ],
            [
             0.7777777777777778,
             "#fb9f3a"
            ],
            [
             0.8888888888888888,
             "#fdca26"
            ],
            [
             1,
             "#f0f921"
            ]
           ]
          },
          "colorway": [
           "#636efa",
           "#EF553B",
           "#00cc96",
           "#ab63fa",
           "#FFA15A",
           "#19d3f3",
           "#FF6692",
           "#B6E880",
           "#FF97FF",
           "#FECB52"
          ],
          "font": {
           "color": "#2a3f5f"
          },
          "geo": {
           "bgcolor": "white",
           "lakecolor": "white",
           "landcolor": "#E5ECF6",
           "showlakes": true,
           "showland": true,
           "subunitcolor": "white"
          },
          "hoverlabel": {
           "align": "left"
          },
          "hovermode": "closest",
          "mapbox": {
           "style": "light"
          },
          "paper_bgcolor": "white",
          "plot_bgcolor": "#E5ECF6",
          "polar": {
           "angularaxis": {
            "gridcolor": "white",
            "linecolor": "white",
            "ticks": ""
           },
           "bgcolor": "#E5ECF6",
           "radialaxis": {
            "gridcolor": "white",
            "linecolor": "white",
            "ticks": ""
           }
          },
          "scene": {
           "xaxis": {
            "backgroundcolor": "#E5ECF6",
            "gridcolor": "white",
            "gridwidth": 2,
            "linecolor": "white",
            "showbackground": true,
            "ticks": "",
            "zerolinecolor": "white"
           },
           "yaxis": {
            "backgroundcolor": "#E5ECF6",
            "gridcolor": "white",
            "gridwidth": 2,
            "linecolor": "white",
            "showbackground": true,
            "ticks": "",
            "zerolinecolor": "white"
           },
           "zaxis": {
            "backgroundcolor": "#E5ECF6",
            "gridcolor": "white",
            "gridwidth": 2,
            "linecolor": "white",
            "showbackground": true,
            "ticks": "",
            "zerolinecolor": "white"
           }
          },
          "shapedefaults": {
           "line": {
            "color": "#2a3f5f"
           }
          },
          "ternary": {
           "aaxis": {
            "gridcolor": "white",
            "linecolor": "white",
            "ticks": ""
           },
           "baxis": {
            "gridcolor": "white",
            "linecolor": "white",
            "ticks": ""
           },
           "bgcolor": "#E5ECF6",
           "caxis": {
            "gridcolor": "white",
            "linecolor": "white",
            "ticks": ""
           }
          },
          "title": {
           "x": 0.05
          },
          "xaxis": {
           "automargin": true,
           "gridcolor": "white",
           "linecolor": "white",
           "ticks": "",
           "title": {
            "standoff": 15
           },
           "zerolinecolor": "white",
           "zerolinewidth": 2
          },
          "yaxis": {
           "automargin": true,
           "gridcolor": "white",
           "linecolor": "white",
           "ticks": "",
           "title": {
            "standoff": 15
           },
           "zerolinecolor": "white",
           "zerolinewidth": 2
          }
         }
        },
        "title": {
         "text": "Confusion Matrices of Best Models<br><sup>Normalized by True Label Count</sup>"
        },
        "width": 800,
        "xaxis": {
         "anchor": "y",
         "domain": [
          0,
          0.4
         ],
         "title": {
          "text": "Predicted Labels"
         }
        },
        "xaxis2": {
         "anchor": "y2",
         "domain": [
          0.6000000000000001,
          1
         ],
         "title": {
          "text": "Predicted Labels"
         }
        },
        "xaxis3": {
         "anchor": "y3",
         "domain": [
          0,
          0.4
         ],
         "title": {
          "text": "Predicted Labels"
         }
        },
        "xaxis4": {
         "anchor": "y4",
         "domain": [
          0.6000000000000001,
          1
         ],
         "title": {
          "text": "Predicted Labels"
         }
        },
        "yaxis": {
         "anchor": "x",
         "domain": [
          0.625,
          1
         ],
         "title": {
          "text": "True Labels"
         }
        },
        "yaxis2": {
         "anchor": "x2",
         "domain": [
          0.625,
          1
         ],
         "title": {
          "text": "True Labels"
         }
        },
        "yaxis3": {
         "anchor": "x3",
         "domain": [
          0,
          0.375
         ],
         "title": {
          "text": "True Labels"
         }
        },
        "yaxis4": {
         "anchor": "x4",
         "domain": [
          0,
          0.375
         ],
         "title": {
          "text": "True Labels"
         }
        }
       }
      }
     },
     "metadata": {},
     "output_type": "display_data"
    }
   ],
   "source": [
    "# Set up the subplots\n",
    "fig = make_subplots(rows=2, cols=2, subplot_titles=list(best_models.keys()), horizontal_spacing=0.2)\n",
    "\n",
    "# Iterate through the models and plot the confusion matrices\n",
    "for i, (_k, v) in enumerate(best_models.items()):\n",
    "    classifier = v[\"estimator\"]\n",
    "    y_pred = classifier.predict(X_test)\n",
    "    cm = confusion_matrix(y_test, y_pred)\n",
    "    cm_normalized = confusion_matrix(y_test, y_pred, normalize=\"true\")\n",
    "\n",
    "    # Define cell text content\n",
    "    annotation_text = [\n",
    "        [f\"{norm:.2f}\" for count, norm in zip(row, norm_row)] for row, norm_row in zip(cm, cm_normalized)\n",
    "    ]\n",
    "    hover_text = [\n",
    "        [f\"Count: {count}<br>Normalized: {norm:.2f}\" for count, norm in zip(row, norm_row)]\n",
    "        for row, norm_row in zip(cm, cm_normalized)\n",
    "    ]\n",
    "\n",
    "    # Create heatmap trace\n",
    "    heatmap = go.Heatmap(\n",
    "        z=cm_normalized,\n",
    "        x=[\"Not Booked\", \"Booked\"],\n",
    "        y=[\"Not Booked\", \"Booked\"],\n",
    "        text=annotation_text,\n",
    "        texttemplate=\"%{text}\",\n",
    "        colorscale=\"Blues\",\n",
    "        zmin=0,\n",
    "        zmax=1,\n",
    "        showscale=False,\n",
    "        hovertext=hover_text,\n",
    "        hoverinfo=\"text\",\n",
    "    )\n",
    "\n",
    "    # Add trace to subplot\n",
    "    fig.add_trace(heatmap, row=(i // 2) + 1, col=(i % 2) + 1)\n",
    "\n",
    "    # Update axis titles\n",
    "    fig.update_xaxes(title_text=\"Predicted Labels\", row=(i // 2) + 1, col=(i % 2) + 1)\n",
    "    fig.update_yaxes(title_text=\"True Labels\", row=(i // 2) + 1, col=(i % 2) + 1)\n",
    "\n",
    "# Set size and title\n",
    "fig.update_layout(\n",
    "    height=700,\n",
    "    width=800,\n",
    "    title_text=\"Confusion Matrices of Best Models<br><sup>Normalized by True Label Count</sup>\",\n",
    ")\n",
    "\n",
    "fig.show()"
   ]
  },
  {
   "cell_type": "markdown",
   "metadata": {},
   "source": [
    "### Feature Importance\n",
    "\n",
    "Permutation feature importance measures the decrease in model performance when a feature's values are randomly shuffled.\n"
   ]
  },
  {
   "cell_type": "code",
   "execution_count": 8,
   "metadata": {},
   "outputs": [],
   "source": [
    "def plot_importance(model, x, y):\n",
    "    \"\"\"\n",
    "    Plots permutation feature importance scores.\n",
    "\n",
    "    Args:\n",
    "        model (estimator): The model to evaluate.\n",
    "        x (pd.DataFrame): Feature columns.\n",
    "        y (pd.Series): Target labels.\n",
    "\n",
    "    Displays:\n",
    "        Bar chart of feature importance score means plus standard deviations for the given model.\n",
    "\n",
    "    \"\"\"\n",
    "    title = model.__class__.__name__\n",
    "\n",
    "    perm_importance = permutation_importance(model, x, y, random_state=0, scoring=\"f1\")\n",
    "    importance_df = pd.DataFrame({\n",
    "        \"Feature\": x.columns,\n",
    "        \"Importance\": perm_importance.importances_mean,\n",
    "        \"Importance Std\": perm_importance.importances_std,\n",
    "    })\n",
    "\n",
    "    fig = px.bar(\n",
    "        importance_df.sort_values(by=\"Importance\", ascending=False).head(20).reset_index(drop=True),\n",
    "        x=\"Importance\",\n",
    "        y=\"Feature\",\n",
    "        orientation=\"h\",\n",
    "        error_x=\"Importance Std\",\n",
    "        title=f\"Permutation Feature Importance<br><sup>{title}</sup>\",\n",
    "        height=700,\n",
    "        width=800,\n",
    "    )\n",
    "    fig.update_layout(yaxis={\"categoryorder\": \"total ascending\"})\n",
    "    fig.show()"
   ]
  },
  {
   "cell_type": "code",
   "execution_count": 9,
   "metadata": {},
   "outputs": [
    {
     "data": {
      "application/vnd.plotly.v1+json": {
       "config": {
        "plotlyServerURL": "https://plot.ly"
       },
       "data": [
        {
         "alignmentgroup": "True",
         "error_x": {
          "array": [
           0.0022181817981500505,
           0.001227648926461806,
           0.0009934428910721288,
           0.0010558045417775616,
           0.0020715348094202104,
           0.0006050361187174364,
           0.0014877719426574084,
           0.0016824256609535306,
           0.0003864153449024672,
           0.0015569028162718728,
           0.0002965555633517519,
           0.0009580993283478287,
           0.0006199144685431436,
           0.0008962732979623725,
           0.0003224807344267776,
           0.00020142610295892943,
           0.0004344727966796941,
           0.0009711458753035698,
           0.001328580105618633,
           0.0005666923205031744
          ]
         },
         "hovertemplate": "Importance=%{x}<br>Feature=%{y}<extra></extra>",
         "legendgroup": "",
         "marker": {
          "color": "#636efa",
          "pattern": {
           "shape": ""
          }
         },
         "name": "",
         "offsetgroup": "",
         "orientation": "h",
         "showlegend": false,
         "textposition": "auto",
         "type": "bar",
         "x": [
          0.025235525156330995,
          0.022032294185453095,
          0.01406551774229956,
          0.012925925495829781,
          0.011261421710591002,
          0.008468945565095799,
          0.007813375286118352,
          0.006578407921687202,
          0.006340027596142684,
          0.005535433517506716,
          0.005479784597271664,
          0.004882067554438829,
          0.004751172091184763,
          0.0036468092042634794,
          0.003440260027204778,
          0.0033559441206050477,
          0.0032468030738238562,
          0.003198981420414959,
          0.0029003453136773327,
          0.002752241056278104
         ],
         "xaxis": "x",
         "y": [
          "booking_origin_Australia",
          "route_to_PEN",
          "booking_origin_New Zealand",
          "route_to_KUL",
          "route_from_PEN",
          "route_from_BKI",
          "sales_channel_Mobile",
          "booking_origin_Japan",
          "booking_origin_Singapore",
          "wants_extra_baggage",
          "route_from_JHB",
          "booking_origin_Indonesia",
          "route_from_DEL",
          "route_from_KCH",
          "route_to_KCH",
          "booking_origin_Vietnam",
          "route_to_MLE",
          "booking_origin_China",
          "booking_origin_Thailand",
          "route_from_IKA"
         ],
         "yaxis": "y"
        }
       ],
       "layout": {
        "barmode": "relative",
        "height": 700,
        "legend": {
         "tracegroupgap": 0
        },
        "template": {
         "data": {
          "bar": [
           {
            "error_x": {
             "color": "#2a3f5f"
            },
            "error_y": {
             "color": "#2a3f5f"
            },
            "marker": {
             "line": {
              "color": "#E5ECF6",
              "width": 0.5
             },
             "pattern": {
              "fillmode": "overlay",
              "size": 10,
              "solidity": 0.2
             }
            },
            "type": "bar"
           }
          ],
          "barpolar": [
           {
            "marker": {
             "line": {
              "color": "#E5ECF6",
              "width": 0.5
             },
             "pattern": {
              "fillmode": "overlay",
              "size": 10,
              "solidity": 0.2
             }
            },
            "type": "barpolar"
           }
          ],
          "carpet": [
           {
            "aaxis": {
             "endlinecolor": "#2a3f5f",
             "gridcolor": "white",
             "linecolor": "white",
             "minorgridcolor": "white",
             "startlinecolor": "#2a3f5f"
            },
            "baxis": {
             "endlinecolor": "#2a3f5f",
             "gridcolor": "white",
             "linecolor": "white",
             "minorgridcolor": "white",
             "startlinecolor": "#2a3f5f"
            },
            "type": "carpet"
           }
          ],
          "choropleth": [
           {
            "colorbar": {
             "outlinewidth": 0,
             "ticks": ""
            },
            "type": "choropleth"
           }
          ],
          "contour": [
           {
            "colorbar": {
             "outlinewidth": 0,
             "ticks": ""
            },
            "colorscale": [
             [
              0,
              "#0d0887"
             ],
             [
              0.1111111111111111,
              "#46039f"
             ],
             [
              0.2222222222222222,
              "#7201a8"
             ],
             [
              0.3333333333333333,
              "#9c179e"
             ],
             [
              0.4444444444444444,
              "#bd3786"
             ],
             [
              0.5555555555555556,
              "#d8576b"
             ],
             [
              0.6666666666666666,
              "#ed7953"
             ],
             [
              0.7777777777777778,
              "#fb9f3a"
             ],
             [
              0.8888888888888888,
              "#fdca26"
             ],
             [
              1,
              "#f0f921"
             ]
            ],
            "type": "contour"
           }
          ],
          "contourcarpet": [
           {
            "colorbar": {
             "outlinewidth": 0,
             "ticks": ""
            },
            "type": "contourcarpet"
           }
          ],
          "heatmap": [
           {
            "colorbar": {
             "outlinewidth": 0,
             "ticks": ""
            },
            "colorscale": [
             [
              0,
              "#0d0887"
             ],
             [
              0.1111111111111111,
              "#46039f"
             ],
             [
              0.2222222222222222,
              "#7201a8"
             ],
             [
              0.3333333333333333,
              "#9c179e"
             ],
             [
              0.4444444444444444,
              "#bd3786"
             ],
             [
              0.5555555555555556,
              "#d8576b"
             ],
             [
              0.6666666666666666,
              "#ed7953"
             ],
             [
              0.7777777777777778,
              "#fb9f3a"
             ],
             [
              0.8888888888888888,
              "#fdca26"
             ],
             [
              1,
              "#f0f921"
             ]
            ],
            "type": "heatmap"
           }
          ],
          "heatmapgl": [
           {
            "colorbar": {
             "outlinewidth": 0,
             "ticks": ""
            },
            "colorscale": [
             [
              0,
              "#0d0887"
             ],
             [
              0.1111111111111111,
              "#46039f"
             ],
             [
              0.2222222222222222,
              "#7201a8"
             ],
             [
              0.3333333333333333,
              "#9c179e"
             ],
             [
              0.4444444444444444,
              "#bd3786"
             ],
             [
              0.5555555555555556,
              "#d8576b"
             ],
             [
              0.6666666666666666,
              "#ed7953"
             ],
             [
              0.7777777777777778,
              "#fb9f3a"
             ],
             [
              0.8888888888888888,
              "#fdca26"
             ],
             [
              1,
              "#f0f921"
             ]
            ],
            "type": "heatmapgl"
           }
          ],
          "histogram": [
           {
            "marker": {
             "pattern": {
              "fillmode": "overlay",
              "size": 10,
              "solidity": 0.2
             }
            },
            "type": "histogram"
           }
          ],
          "histogram2d": [
           {
            "colorbar": {
             "outlinewidth": 0,
             "ticks": ""
            },
            "colorscale": [
             [
              0,
              "#0d0887"
             ],
             [
              0.1111111111111111,
              "#46039f"
             ],
             [
              0.2222222222222222,
              "#7201a8"
             ],
             [
              0.3333333333333333,
              "#9c179e"
             ],
             [
              0.4444444444444444,
              "#bd3786"
             ],
             [
              0.5555555555555556,
              "#d8576b"
             ],
             [
              0.6666666666666666,
              "#ed7953"
             ],
             [
              0.7777777777777778,
              "#fb9f3a"
             ],
             [
              0.8888888888888888,
              "#fdca26"
             ],
             [
              1,
              "#f0f921"
             ]
            ],
            "type": "histogram2d"
           }
          ],
          "histogram2dcontour": [
           {
            "colorbar": {
             "outlinewidth": 0,
             "ticks": ""
            },
            "colorscale": [
             [
              0,
              "#0d0887"
             ],
             [
              0.1111111111111111,
              "#46039f"
             ],
             [
              0.2222222222222222,
              "#7201a8"
             ],
             [
              0.3333333333333333,
              "#9c179e"
             ],
             [
              0.4444444444444444,
              "#bd3786"
             ],
             [
              0.5555555555555556,
              "#d8576b"
             ],
             [
              0.6666666666666666,
              "#ed7953"
             ],
             [
              0.7777777777777778,
              "#fb9f3a"
             ],
             [
              0.8888888888888888,
              "#fdca26"
             ],
             [
              1,
              "#f0f921"
             ]
            ],
            "type": "histogram2dcontour"
           }
          ],
          "mesh3d": [
           {
            "colorbar": {
             "outlinewidth": 0,
             "ticks": ""
            },
            "type": "mesh3d"
           }
          ],
          "parcoords": [
           {
            "line": {
             "colorbar": {
              "outlinewidth": 0,
              "ticks": ""
             }
            },
            "type": "parcoords"
           }
          ],
          "pie": [
           {
            "automargin": true,
            "type": "pie"
           }
          ],
          "scatter": [
           {
            "fillpattern": {
             "fillmode": "overlay",
             "size": 10,
             "solidity": 0.2
            },
            "type": "scatter"
           }
          ],
          "scatter3d": [
           {
            "line": {
             "colorbar": {
              "outlinewidth": 0,
              "ticks": ""
             }
            },
            "marker": {
             "colorbar": {
              "outlinewidth": 0,
              "ticks": ""
             }
            },
            "type": "scatter3d"
           }
          ],
          "scattercarpet": [
           {
            "marker": {
             "colorbar": {
              "outlinewidth": 0,
              "ticks": ""
             }
            },
            "type": "scattercarpet"
           }
          ],
          "scattergeo": [
           {
            "marker": {
             "colorbar": {
              "outlinewidth": 0,
              "ticks": ""
             }
            },
            "type": "scattergeo"
           }
          ],
          "scattergl": [
           {
            "marker": {
             "colorbar": {
              "outlinewidth": 0,
              "ticks": ""
             }
            },
            "type": "scattergl"
           }
          ],
          "scattermapbox": [
           {
            "marker": {
             "colorbar": {
              "outlinewidth": 0,
              "ticks": ""
             }
            },
            "type": "scattermapbox"
           }
          ],
          "scatterpolar": [
           {
            "marker": {
             "colorbar": {
              "outlinewidth": 0,
              "ticks": ""
             }
            },
            "type": "scatterpolar"
           }
          ],
          "scatterpolargl": [
           {
            "marker": {
             "colorbar": {
              "outlinewidth": 0,
              "ticks": ""
             }
            },
            "type": "scatterpolargl"
           }
          ],
          "scatterternary": [
           {
            "marker": {
             "colorbar": {
              "outlinewidth": 0,
              "ticks": ""
             }
            },
            "type": "scatterternary"
           }
          ],
          "surface": [
           {
            "colorbar": {
             "outlinewidth": 0,
             "ticks": ""
            },
            "colorscale": [
             [
              0,
              "#0d0887"
             ],
             [
              0.1111111111111111,
              "#46039f"
             ],
             [
              0.2222222222222222,
              "#7201a8"
             ],
             [
              0.3333333333333333,
              "#9c179e"
             ],
             [
              0.4444444444444444,
              "#bd3786"
             ],
             [
              0.5555555555555556,
              "#d8576b"
             ],
             [
              0.6666666666666666,
              "#ed7953"
             ],
             [
              0.7777777777777778,
              "#fb9f3a"
             ],
             [
              0.8888888888888888,
              "#fdca26"
             ],
             [
              1,
              "#f0f921"
             ]
            ],
            "type": "surface"
           }
          ],
          "table": [
           {
            "cells": {
             "fill": {
              "color": "#EBF0F8"
             },
             "line": {
              "color": "white"
             }
            },
            "header": {
             "fill": {
              "color": "#C8D4E3"
             },
             "line": {
              "color": "white"
             }
            },
            "type": "table"
           }
          ]
         },
         "layout": {
          "annotationdefaults": {
           "arrowcolor": "#2a3f5f",
           "arrowhead": 0,
           "arrowwidth": 1
          },
          "autotypenumbers": "strict",
          "coloraxis": {
           "colorbar": {
            "outlinewidth": 0,
            "ticks": ""
           }
          },
          "colorscale": {
           "diverging": [
            [
             0,
             "#8e0152"
            ],
            [
             0.1,
             "#c51b7d"
            ],
            [
             0.2,
             "#de77ae"
            ],
            [
             0.3,
             "#f1b6da"
            ],
            [
             0.4,
             "#fde0ef"
            ],
            [
             0.5,
             "#f7f7f7"
            ],
            [
             0.6,
             "#e6f5d0"
            ],
            [
             0.7,
             "#b8e186"
            ],
            [
             0.8,
             "#7fbc41"
            ],
            [
             0.9,
             "#4d9221"
            ],
            [
             1,
             "#276419"
            ]
           ],
           "sequential": [
            [
             0,
             "#0d0887"
            ],
            [
             0.1111111111111111,
             "#46039f"
            ],
            [
             0.2222222222222222,
             "#7201a8"
            ],
            [
             0.3333333333333333,
             "#9c179e"
            ],
            [
             0.4444444444444444,
             "#bd3786"
            ],
            [
             0.5555555555555556,
             "#d8576b"
            ],
            [
             0.6666666666666666,
             "#ed7953"
            ],
            [
             0.7777777777777778,
             "#fb9f3a"
            ],
            [
             0.8888888888888888,
             "#fdca26"
            ],
            [
             1,
             "#f0f921"
            ]
           ],
           "sequentialminus": [
            [
             0,
             "#0d0887"
            ],
            [
             0.1111111111111111,
             "#46039f"
            ],
            [
             0.2222222222222222,
             "#7201a8"
            ],
            [
             0.3333333333333333,
             "#9c179e"
            ],
            [
             0.4444444444444444,
             "#bd3786"
            ],
            [
             0.5555555555555556,
             "#d8576b"
            ],
            [
             0.6666666666666666,
             "#ed7953"
            ],
            [
             0.7777777777777778,
             "#fb9f3a"
            ],
            [
             0.8888888888888888,
             "#fdca26"
            ],
            [
             1,
             "#f0f921"
            ]
           ]
          },
          "colorway": [
           "#636efa",
           "#EF553B",
           "#00cc96",
           "#ab63fa",
           "#FFA15A",
           "#19d3f3",
           "#FF6692",
           "#B6E880",
           "#FF97FF",
           "#FECB52"
          ],
          "font": {
           "color": "#2a3f5f"
          },
          "geo": {
           "bgcolor": "white",
           "lakecolor": "white",
           "landcolor": "#E5ECF6",
           "showlakes": true,
           "showland": true,
           "subunitcolor": "white"
          },
          "hoverlabel": {
           "align": "left"
          },
          "hovermode": "closest",
          "mapbox": {
           "style": "light"
          },
          "paper_bgcolor": "white",
          "plot_bgcolor": "#E5ECF6",
          "polar": {
           "angularaxis": {
            "gridcolor": "white",
            "linecolor": "white",
            "ticks": ""
           },
           "bgcolor": "#E5ECF6",
           "radialaxis": {
            "gridcolor": "white",
            "linecolor": "white",
            "ticks": ""
           }
          },
          "scene": {
           "xaxis": {
            "backgroundcolor": "#E5ECF6",
            "gridcolor": "white",
            "gridwidth": 2,
            "linecolor": "white",
            "showbackground": true,
            "ticks": "",
            "zerolinecolor": "white"
           },
           "yaxis": {
            "backgroundcolor": "#E5ECF6",
            "gridcolor": "white",
            "gridwidth": 2,
            "linecolor": "white",
            "showbackground": true,
            "ticks": "",
            "zerolinecolor": "white"
           },
           "zaxis": {
            "backgroundcolor": "#E5ECF6",
            "gridcolor": "white",
            "gridwidth": 2,
            "linecolor": "white",
            "showbackground": true,
            "ticks": "",
            "zerolinecolor": "white"
           }
          },
          "shapedefaults": {
           "line": {
            "color": "#2a3f5f"
           }
          },
          "ternary": {
           "aaxis": {
            "gridcolor": "white",
            "linecolor": "white",
            "ticks": ""
           },
           "baxis": {
            "gridcolor": "white",
            "linecolor": "white",
            "ticks": ""
           },
           "bgcolor": "#E5ECF6",
           "caxis": {
            "gridcolor": "white",
            "linecolor": "white",
            "ticks": ""
           }
          },
          "title": {
           "x": 0.05
          },
          "xaxis": {
           "automargin": true,
           "gridcolor": "white",
           "linecolor": "white",
           "ticks": "",
           "title": {
            "standoff": 15
           },
           "zerolinecolor": "white",
           "zerolinewidth": 2
          },
          "yaxis": {
           "automargin": true,
           "gridcolor": "white",
           "linecolor": "white",
           "ticks": "",
           "title": {
            "standoff": 15
           },
           "zerolinecolor": "white",
           "zerolinewidth": 2
          }
         }
        },
        "title": {
         "text": "Permutation Feature Importance<br><sup>SGDClassifier</sup>"
        },
        "width": 800,
        "xaxis": {
         "anchor": "y",
         "domain": [
          0,
          1
         ],
         "title": {
          "text": "Importance"
         }
        },
        "yaxis": {
         "anchor": "x",
         "categoryorder": "total ascending",
         "domain": [
          0,
          1
         ],
         "title": {
          "text": "Feature"
         }
        }
       }
      }
     },
     "metadata": {},
     "output_type": "display_data"
    }
   ],
   "source": [
    "sgd_model = best_models[\"SGDClassifier\"][\"estimator\"]\n",
    "\n",
    "plot_importance(sgd_model, X_test, y_test)"
   ]
  }
 ],
 "metadata": {
  "kernelspec": {
   "display_name": "ba",
   "language": "python",
   "name": "python3"
  },
  "language_info": {
   "codemirror_mode": {
    "name": "ipython",
    "version": 3
   },
   "file_extension": ".py",
   "mimetype": "text/x-python",
   "name": "python",
   "nbconvert_exporter": "python",
   "pygments_lexer": "ipython3",
   "version": "3.10.14"
  }
 },
 "nbformat": 4,
 "nbformat_minor": 2
}
